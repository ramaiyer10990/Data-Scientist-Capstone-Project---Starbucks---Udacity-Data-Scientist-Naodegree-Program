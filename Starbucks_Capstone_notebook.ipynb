{
 "cells": [
  {
   "cell_type": "markdown",
   "metadata": {},
   "source": [
    "# Starbucks Capstone Challenge\n",
    "\n",
    "### Introduction\n",
    "\n",
    "This data set contains simulated data that mimics customer behavior on the Starbucks rewards mobile app. Once every few days, Starbucks sends out an offer to users of the mobile app. An offer can be merely an advertisement for a drink or an actual offer such as a discount or BOGO (buy one get one free). Some users might not receive any offer during certain weeks. \n",
    "\n",
    "Not all users receive the same offer, and that is the challenge to solve with this data set.\n",
    "\n",
    "Your task is to combine transaction, demographic and offer data to determine which demographic groups respond best to which offer type. This data set is a simplified version of the real Starbucks app because the underlying simulator only has one product whereas Starbucks actually sells dozens of products.\n",
    "\n",
    "Every offer has a validity period before the offer expires. As an example, a BOGO offer might be valid for only 5 days. You'll see in the data set that informational offers have a validity period even though these ads are merely providing information about a product; for example, if an informational offer has 7 days of validity, you can assume the customer is feeling the influence of the offer for 7 days after receiving the advertisement.\n",
    "\n",
    "You'll be given transactional data showing user purchases made on the app including the timestamp of purchase and the amount of money spent on a purchase. This transactional data also has a record for each offer that a user receives as well as a record for when a user actually views the offer. There are also records for when a user completes an offer. \n",
    "\n",
    "Keep in mind as well that someone using the app might make a purchase through the app without having received an offer or seen an offer.\n",
    "\n",
    "### Example\n",
    "\n",
    "To give an example, a user could receive a discount offer buy 10 dollars get 2 off on Monday. The offer is valid for 10 days from receipt. If the customer accumulates at least 10 dollars in purchases during the validity period, the customer completes the offer.\n",
    "\n",
    "However, there are a few things to watch out for in this data set. Customers do not opt into the offers that they receive; in other words, a user can receive an offer, never actually view the offer, and still complete the offer. For example, a user might receive the \"buy 10 dollars get 2 dollars off offer\", but the user never opens the offer during the 10 day validity period. The customer spends 15 dollars during those ten days. There will be an offer completion record in the data set; however, the customer was not influenced by the offer because the customer never viewed the offer.\n",
    "\n",
    "### Cleaning\n",
    "\n",
    "This makes data cleaning especially important and tricky.\n",
    "\n",
    "You'll also want to take into account that some demographic groups will make purchases even if they don't receive an offer. From a business perspective, if a customer is going to make a 10 dollar purchase without an offer anyway, you wouldn't want to send a buy 10 dollars get 2 dollars off offer. You'll want to try to assess what a certain demographic group will buy when not receiving any offers.\n",
    "\n",
    "### Final Advice\n",
    "\n",
    "Because this is a capstone project, you are free to analyze the data any way you see fit. For example, you could build a machine learning model that predicts how much someone will spend based on demographics and offer type. Or you could build a model that predicts whether or not someone will respond to an offer. Or, you don't need to build a machine learning model at all. You could develop a set of heuristics that determine what offer you should send to each customer (i.e., 75 percent of women customers who were 35 years old responded to offer A vs 40 percent from the same demographic to offer B, so send offer A)."
   ]
  },
  {
   "cell_type": "markdown",
   "metadata": {},
   "source": [
    "# Data Sets\n",
    "\n",
    "The data is contained in three files:\n",
    "\n",
    "* portfolio.json - containing offer ids and meta data about each offer (duration, type, etc.)\n",
    "* profile.json - demographic data for each customer\n",
    "* transcript.json - records for transactions, offers received, offers viewed, and offers completed\n",
    "\n",
    "Here is the schema and explanation of each variable in the files:\n",
    "\n",
    "**portfolio.json**\n",
    "* id (string) - offer id\n",
    "* offer_type (string) - type of offer ie BOGO, discount, informational\n",
    "* difficulty (int) - minimum required spend to complete an offer\n",
    "* reward (int) - reward given for completing an offer\n",
    "* duration (int) - time for offer to be open, in days\n",
    "* channels (list of strings)\n",
    "\n",
    "**profile.json**\n",
    "* age (int) - age of the customer \n",
    "* became_member_on (int) - date when customer created an app account\n",
    "* gender (str) - gender of the customer (note some entries contain 'O' for other rather than M or F)\n",
    "* id (str) - customer id\n",
    "* income (float) - customer's income\n",
    "\n",
    "**transcript.json**\n",
    "* event (str) - record description (ie transaction, offer received, offer viewed, etc.)\n",
    "* person (str) - customer id\n",
    "* time (int) - time in hours since start of test. The data begins at time t=0\n",
    "* value - (dict of strings) - either an offer id or transaction amount depending on the record\n",
    "\n",
    "**Note:** If you are using the workspace, you will need to go to the terminal and run the command `conda update pandas` before reading in the files. This is because the version of pandas in the workspace cannot read in the transcript.json file correctly, but the newest version of pandas can. You can access the termnal from the orange icon in the top left of this notebook.  \n",
    "\n",
    "You can see how to access the terminal and how the install works using the two images below.  First you need to access the terminal:\n",
    "\n",
    "<img src=\"pic1.png\"/>\n",
    "\n",
    "Then you will want to run the above command:\n",
    "\n",
    "<img src=\"pic2.png\"/>\n",
    "\n",
    "Finally, when you enter back into the notebook (use the jupyter icon again), you should be able to run the below cell without any errors."
   ]
  },
  {
   "cell_type": "markdown",
   "metadata": {},
   "source": [
    "## Read the Starbucks challenge data\n",
    "- portfolio.json - Contains offer identifiers and offer meta data (e.g. duration, type, etc.)\n",
    "- profile.json - Customer demographics data\n",
    "- transcript.json - Describes customer transactions and when offers are received, viewed, and completed."
   ]
  },
  {
   "cell_type": "markdown",
   "metadata": {},
   "source": [
    "#### Importing packages\n",
    "Importing required libraries and reading the dataset (.json files) and creating a data frame."
   ]
  },
  {
   "cell_type": "code",
   "execution_count": 1,
   "metadata": {},
   "outputs": [],
   "source": [
    "import pandas as pd\n",
    "import numpy as np\n",
    "import math\n",
    "import json\n",
    "import calendar\n",
    "#% matplotlib inline\n",
    "import matplotlib.pyplot as plt\n",
    "from sklearn.model_selection import train_test_split\n",
    "\n",
    "# read in the json files\n",
    "portfolio = pd.read_json('data/portfolio.json', orient='records', lines=True)\n",
    "profile = pd.read_json('data/profile.json', orient='records', lines=True)\n",
    "transcript = pd.read_json('data/transcript.json', orient='records', lines=True)"
   ]
  },
  {
   "cell_type": "markdown",
   "metadata": {},
   "source": [
    "#### Initializing the dataset\n",
    "Converting list of strings into comma separated strings for portfolio channel."
   ]
  },
  {
   "cell_type": "code",
   "execution_count": 2,
   "metadata": {},
   "outputs": [],
   "source": [
    "portfolio['channels'] = [','.join(map(str, l)) for l in portfolio['channels']]"
   ]
  },
  {
   "cell_type": "code",
   "execution_count": 3,
   "metadata": {},
   "outputs": [
    {
     "data": {
      "text/html": [
       "<div>\n",
       "<style scoped>\n",
       "    .dataframe tbody tr th:only-of-type {\n",
       "        vertical-align: middle;\n",
       "    }\n",
       "\n",
       "    .dataframe tbody tr th {\n",
       "        vertical-align: top;\n",
       "    }\n",
       "\n",
       "    .dataframe thead th {\n",
       "        text-align: right;\n",
       "    }\n",
       "</style>\n",
       "<table border=\"1\" class=\"dataframe\">\n",
       "  <thead>\n",
       "    <tr style=\"text-align: right;\">\n",
       "      <th></th>\n",
       "      <th>reward</th>\n",
       "      <th>channels</th>\n",
       "      <th>difficulty</th>\n",
       "      <th>duration</th>\n",
       "      <th>offer_type</th>\n",
       "      <th>id</th>\n",
       "    </tr>\n",
       "  </thead>\n",
       "  <tbody>\n",
       "    <tr>\n",
       "      <th>0</th>\n",
       "      <td>10</td>\n",
       "      <td>email,mobile,social</td>\n",
       "      <td>10</td>\n",
       "      <td>7</td>\n",
       "      <td>bogo</td>\n",
       "      <td>ae264e3637204a6fb9bb56bc8210ddfd</td>\n",
       "    </tr>\n",
       "    <tr>\n",
       "      <th>1</th>\n",
       "      <td>10</td>\n",
       "      <td>web,email,mobile,social</td>\n",
       "      <td>10</td>\n",
       "      <td>5</td>\n",
       "      <td>bogo</td>\n",
       "      <td>4d5c57ea9a6940dd891ad53e9dbe8da0</td>\n",
       "    </tr>\n",
       "    <tr>\n",
       "      <th>2</th>\n",
       "      <td>0</td>\n",
       "      <td>web,email,mobile</td>\n",
       "      <td>0</td>\n",
       "      <td>4</td>\n",
       "      <td>informational</td>\n",
       "      <td>3f207df678b143eea3cee63160fa8bed</td>\n",
       "    </tr>\n",
       "    <tr>\n",
       "      <th>3</th>\n",
       "      <td>5</td>\n",
       "      <td>web,email,mobile</td>\n",
       "      <td>5</td>\n",
       "      <td>7</td>\n",
       "      <td>bogo</td>\n",
       "      <td>9b98b8c7a33c4b65b9aebfe6a799e6d9</td>\n",
       "    </tr>\n",
       "    <tr>\n",
       "      <th>4</th>\n",
       "      <td>5</td>\n",
       "      <td>web,email</td>\n",
       "      <td>20</td>\n",
       "      <td>10</td>\n",
       "      <td>discount</td>\n",
       "      <td>0b1e1539f2cc45b7b9fa7c272da2e1d7</td>\n",
       "    </tr>\n",
       "    <tr>\n",
       "      <th>5</th>\n",
       "      <td>3</td>\n",
       "      <td>web,email,mobile,social</td>\n",
       "      <td>7</td>\n",
       "      <td>7</td>\n",
       "      <td>discount</td>\n",
       "      <td>2298d6c36e964ae4a3e7e9706d1fb8c2</td>\n",
       "    </tr>\n",
       "    <tr>\n",
       "      <th>6</th>\n",
       "      <td>2</td>\n",
       "      <td>web,email,mobile,social</td>\n",
       "      <td>10</td>\n",
       "      <td>10</td>\n",
       "      <td>discount</td>\n",
       "      <td>fafdcd668e3743c1bb461111dcafc2a4</td>\n",
       "    </tr>\n",
       "    <tr>\n",
       "      <th>7</th>\n",
       "      <td>0</td>\n",
       "      <td>email,mobile,social</td>\n",
       "      <td>0</td>\n",
       "      <td>3</td>\n",
       "      <td>informational</td>\n",
       "      <td>5a8bc65990b245e5a138643cd4eb9837</td>\n",
       "    </tr>\n",
       "    <tr>\n",
       "      <th>8</th>\n",
       "      <td>5</td>\n",
       "      <td>web,email,mobile,social</td>\n",
       "      <td>5</td>\n",
       "      <td>5</td>\n",
       "      <td>bogo</td>\n",
       "      <td>f19421c1d4aa40978ebb69ca19b0e20d</td>\n",
       "    </tr>\n",
       "    <tr>\n",
       "      <th>9</th>\n",
       "      <td>2</td>\n",
       "      <td>web,email,mobile</td>\n",
       "      <td>10</td>\n",
       "      <td>7</td>\n",
       "      <td>discount</td>\n",
       "      <td>2906b810c7d4411798c6938adc9daaa5</td>\n",
       "    </tr>\n",
       "  </tbody>\n",
       "</table>\n",
       "</div>"
      ],
      "text/plain": [
       "   reward                 channels  difficulty  duration     offer_type  \\\n",
       "0      10      email,mobile,social          10         7           bogo   \n",
       "1      10  web,email,mobile,social          10         5           bogo   \n",
       "2       0         web,email,mobile           0         4  informational   \n",
       "3       5         web,email,mobile           5         7           bogo   \n",
       "4       5                web,email          20        10       discount   \n",
       "5       3  web,email,mobile,social           7         7       discount   \n",
       "6       2  web,email,mobile,social          10        10       discount   \n",
       "7       0      email,mobile,social           0         3  informational   \n",
       "8       5  web,email,mobile,social           5         5           bogo   \n",
       "9       2         web,email,mobile          10         7       discount   \n",
       "\n",
       "                                 id  \n",
       "0  ae264e3637204a6fb9bb56bc8210ddfd  \n",
       "1  4d5c57ea9a6940dd891ad53e9dbe8da0  \n",
       "2  3f207df678b143eea3cee63160fa8bed  \n",
       "3  9b98b8c7a33c4b65b9aebfe6a799e6d9  \n",
       "4  0b1e1539f2cc45b7b9fa7c272da2e1d7  \n",
       "5  2298d6c36e964ae4a3e7e9706d1fb8c2  \n",
       "6  fafdcd668e3743c1bb461111dcafc2a4  \n",
       "7  5a8bc65990b245e5a138643cd4eb9837  \n",
       "8  f19421c1d4aa40978ebb69ca19b0e20d  \n",
       "9  2906b810c7d4411798c6938adc9daaa5  "
      ]
     },
     "execution_count": 3,
     "metadata": {},
     "output_type": "execute_result"
    }
   ],
   "source": [
    "portfolio"
   ]
  },
  {
   "cell_type": "markdown",
   "metadata": {},
   "source": [
    "#### Creating boolean values for each category in channels."
   ]
  },
  {
   "cell_type": "code",
   "execution_count": 4,
   "metadata": {},
   "outputs": [],
   "source": [
    "web = [1 if 'web' in score\n",
    "else 0\n",
    "for score in portfolio['channels']]\n",
    "email = [1 if 'email' in score\n",
    "else 0\n",
    "for score in portfolio['channels']]\n",
    "mobile = [1 if 'mobile' in score\n",
    "else 0\n",
    "for score in portfolio['channels']]\n",
    "social = [1 if 'social' in score\n",
    "else 0\n",
    "for score in portfolio['channels']]\n",
    "\n",
    "portfolio['web'] = web\n",
    "portfolio['email'] = email\n",
    "portfolio['mobile'] = mobile\n",
    "portfolio['social'] = social"
   ]
  },
  {
   "cell_type": "code",
   "execution_count": 5,
   "metadata": {},
   "outputs": [
    {
     "data": {
      "text/html": [
       "<div>\n",
       "<style scoped>\n",
       "    .dataframe tbody tr th:only-of-type {\n",
       "        vertical-align: middle;\n",
       "    }\n",
       "\n",
       "    .dataframe tbody tr th {\n",
       "        vertical-align: top;\n",
       "    }\n",
       "\n",
       "    .dataframe thead th {\n",
       "        text-align: right;\n",
       "    }\n",
       "</style>\n",
       "<table border=\"1\" class=\"dataframe\">\n",
       "  <thead>\n",
       "    <tr style=\"text-align: right;\">\n",
       "      <th></th>\n",
       "      <th>reward</th>\n",
       "      <th>channels</th>\n",
       "      <th>difficulty</th>\n",
       "      <th>duration</th>\n",
       "      <th>offer_type</th>\n",
       "      <th>id</th>\n",
       "      <th>web</th>\n",
       "      <th>email</th>\n",
       "      <th>mobile</th>\n",
       "      <th>social</th>\n",
       "    </tr>\n",
       "  </thead>\n",
       "  <tbody>\n",
       "    <tr>\n",
       "      <th>0</th>\n",
       "      <td>10</td>\n",
       "      <td>email,mobile,social</td>\n",
       "      <td>10</td>\n",
       "      <td>7</td>\n",
       "      <td>bogo</td>\n",
       "      <td>ae264e3637204a6fb9bb56bc8210ddfd</td>\n",
       "      <td>0</td>\n",
       "      <td>1</td>\n",
       "      <td>1</td>\n",
       "      <td>1</td>\n",
       "    </tr>\n",
       "    <tr>\n",
       "      <th>1</th>\n",
       "      <td>10</td>\n",
       "      <td>web,email,mobile,social</td>\n",
       "      <td>10</td>\n",
       "      <td>5</td>\n",
       "      <td>bogo</td>\n",
       "      <td>4d5c57ea9a6940dd891ad53e9dbe8da0</td>\n",
       "      <td>1</td>\n",
       "      <td>1</td>\n",
       "      <td>1</td>\n",
       "      <td>1</td>\n",
       "    </tr>\n",
       "    <tr>\n",
       "      <th>2</th>\n",
       "      <td>0</td>\n",
       "      <td>web,email,mobile</td>\n",
       "      <td>0</td>\n",
       "      <td>4</td>\n",
       "      <td>informational</td>\n",
       "      <td>3f207df678b143eea3cee63160fa8bed</td>\n",
       "      <td>1</td>\n",
       "      <td>1</td>\n",
       "      <td>1</td>\n",
       "      <td>0</td>\n",
       "    </tr>\n",
       "    <tr>\n",
       "      <th>3</th>\n",
       "      <td>5</td>\n",
       "      <td>web,email,mobile</td>\n",
       "      <td>5</td>\n",
       "      <td>7</td>\n",
       "      <td>bogo</td>\n",
       "      <td>9b98b8c7a33c4b65b9aebfe6a799e6d9</td>\n",
       "      <td>1</td>\n",
       "      <td>1</td>\n",
       "      <td>1</td>\n",
       "      <td>0</td>\n",
       "    </tr>\n",
       "    <tr>\n",
       "      <th>4</th>\n",
       "      <td>5</td>\n",
       "      <td>web,email</td>\n",
       "      <td>20</td>\n",
       "      <td>10</td>\n",
       "      <td>discount</td>\n",
       "      <td>0b1e1539f2cc45b7b9fa7c272da2e1d7</td>\n",
       "      <td>1</td>\n",
       "      <td>1</td>\n",
       "      <td>0</td>\n",
       "      <td>0</td>\n",
       "    </tr>\n",
       "    <tr>\n",
       "      <th>5</th>\n",
       "      <td>3</td>\n",
       "      <td>web,email,mobile,social</td>\n",
       "      <td>7</td>\n",
       "      <td>7</td>\n",
       "      <td>discount</td>\n",
       "      <td>2298d6c36e964ae4a3e7e9706d1fb8c2</td>\n",
       "      <td>1</td>\n",
       "      <td>1</td>\n",
       "      <td>1</td>\n",
       "      <td>1</td>\n",
       "    </tr>\n",
       "    <tr>\n",
       "      <th>6</th>\n",
       "      <td>2</td>\n",
       "      <td>web,email,mobile,social</td>\n",
       "      <td>10</td>\n",
       "      <td>10</td>\n",
       "      <td>discount</td>\n",
       "      <td>fafdcd668e3743c1bb461111dcafc2a4</td>\n",
       "      <td>1</td>\n",
       "      <td>1</td>\n",
       "      <td>1</td>\n",
       "      <td>1</td>\n",
       "    </tr>\n",
       "    <tr>\n",
       "      <th>7</th>\n",
       "      <td>0</td>\n",
       "      <td>email,mobile,social</td>\n",
       "      <td>0</td>\n",
       "      <td>3</td>\n",
       "      <td>informational</td>\n",
       "      <td>5a8bc65990b245e5a138643cd4eb9837</td>\n",
       "      <td>0</td>\n",
       "      <td>1</td>\n",
       "      <td>1</td>\n",
       "      <td>1</td>\n",
       "    </tr>\n",
       "    <tr>\n",
       "      <th>8</th>\n",
       "      <td>5</td>\n",
       "      <td>web,email,mobile,social</td>\n",
       "      <td>5</td>\n",
       "      <td>5</td>\n",
       "      <td>bogo</td>\n",
       "      <td>f19421c1d4aa40978ebb69ca19b0e20d</td>\n",
       "      <td>1</td>\n",
       "      <td>1</td>\n",
       "      <td>1</td>\n",
       "      <td>1</td>\n",
       "    </tr>\n",
       "    <tr>\n",
       "      <th>9</th>\n",
       "      <td>2</td>\n",
       "      <td>web,email,mobile</td>\n",
       "      <td>10</td>\n",
       "      <td>7</td>\n",
       "      <td>discount</td>\n",
       "      <td>2906b810c7d4411798c6938adc9daaa5</td>\n",
       "      <td>1</td>\n",
       "      <td>1</td>\n",
       "      <td>1</td>\n",
       "      <td>0</td>\n",
       "    </tr>\n",
       "  </tbody>\n",
       "</table>\n",
       "</div>"
      ],
      "text/plain": [
       "   reward                 channels  difficulty  duration     offer_type  \\\n",
       "0      10      email,mobile,social          10         7           bogo   \n",
       "1      10  web,email,mobile,social          10         5           bogo   \n",
       "2       0         web,email,mobile           0         4  informational   \n",
       "3       5         web,email,mobile           5         7           bogo   \n",
       "4       5                web,email          20        10       discount   \n",
       "5       3  web,email,mobile,social           7         7       discount   \n",
       "6       2  web,email,mobile,social          10        10       discount   \n",
       "7       0      email,mobile,social           0         3  informational   \n",
       "8       5  web,email,mobile,social           5         5           bogo   \n",
       "9       2         web,email,mobile          10         7       discount   \n",
       "\n",
       "                                 id  web  email  mobile  social  \n",
       "0  ae264e3637204a6fb9bb56bc8210ddfd    0      1       1       1  \n",
       "1  4d5c57ea9a6940dd891ad53e9dbe8da0    1      1       1       1  \n",
       "2  3f207df678b143eea3cee63160fa8bed    1      1       1       0  \n",
       "3  9b98b8c7a33c4b65b9aebfe6a799e6d9    1      1       1       0  \n",
       "4  0b1e1539f2cc45b7b9fa7c272da2e1d7    1      1       0       0  \n",
       "5  2298d6c36e964ae4a3e7e9706d1fb8c2    1      1       1       1  \n",
       "6  fafdcd668e3743c1bb461111dcafc2a4    1      1       1       1  \n",
       "7  5a8bc65990b245e5a138643cd4eb9837    0      1       1       1  \n",
       "8  f19421c1d4aa40978ebb69ca19b0e20d    1      1       1       1  \n",
       "9  2906b810c7d4411798c6938adc9daaa5    1      1       1       0  "
      ]
     },
     "execution_count": 5,
     "metadata": {},
     "output_type": "execute_result"
    }
   ],
   "source": [
    "portfolio"
   ]
  },
  {
   "cell_type": "code",
   "execution_count": 6,
   "metadata": {},
   "outputs": [],
   "source": [
    "portfolio = portfolio.drop(columns = ['channels'])"
   ]
  },
  {
   "cell_type": "markdown",
   "metadata": {},
   "source": [
    "#### Creating one hot encoded values for offers in offer type"
   ]
  },
  {
   "cell_type": "code",
   "execution_count": 7,
   "metadata": {},
   "outputs": [],
   "source": [
    "offer_type = pd.get_dummies(portfolio['offer_type'])\n",
    "\n",
    "portfolio = pd.concat([portfolio, offer_type], axis=1, sort=False)\n",
    "\n",
    "portfolio = portfolio.drop(columns = ['offer_type'])"
   ]
  },
  {
   "cell_type": "code",
   "execution_count": 8,
   "metadata": {},
   "outputs": [
    {
     "data": {
      "text/html": [
       "<div>\n",
       "<style scoped>\n",
       "    .dataframe tbody tr th:only-of-type {\n",
       "        vertical-align: middle;\n",
       "    }\n",
       "\n",
       "    .dataframe tbody tr th {\n",
       "        vertical-align: top;\n",
       "    }\n",
       "\n",
       "    .dataframe thead th {\n",
       "        text-align: right;\n",
       "    }\n",
       "</style>\n",
       "<table border=\"1\" class=\"dataframe\">\n",
       "  <thead>\n",
       "    <tr style=\"text-align: right;\">\n",
       "      <th></th>\n",
       "      <th>reward</th>\n",
       "      <th>difficulty</th>\n",
       "      <th>duration</th>\n",
       "      <th>id</th>\n",
       "      <th>web</th>\n",
       "      <th>email</th>\n",
       "      <th>mobile</th>\n",
       "      <th>social</th>\n",
       "      <th>bogo</th>\n",
       "      <th>discount</th>\n",
       "      <th>informational</th>\n",
       "    </tr>\n",
       "  </thead>\n",
       "  <tbody>\n",
       "    <tr>\n",
       "      <th>0</th>\n",
       "      <td>10</td>\n",
       "      <td>10</td>\n",
       "      <td>7</td>\n",
       "      <td>ae264e3637204a6fb9bb56bc8210ddfd</td>\n",
       "      <td>0</td>\n",
       "      <td>1</td>\n",
       "      <td>1</td>\n",
       "      <td>1</td>\n",
       "      <td>1</td>\n",
       "      <td>0</td>\n",
       "      <td>0</td>\n",
       "    </tr>\n",
       "    <tr>\n",
       "      <th>1</th>\n",
       "      <td>10</td>\n",
       "      <td>10</td>\n",
       "      <td>5</td>\n",
       "      <td>4d5c57ea9a6940dd891ad53e9dbe8da0</td>\n",
       "      <td>1</td>\n",
       "      <td>1</td>\n",
       "      <td>1</td>\n",
       "      <td>1</td>\n",
       "      <td>1</td>\n",
       "      <td>0</td>\n",
       "      <td>0</td>\n",
       "    </tr>\n",
       "    <tr>\n",
       "      <th>2</th>\n",
       "      <td>0</td>\n",
       "      <td>0</td>\n",
       "      <td>4</td>\n",
       "      <td>3f207df678b143eea3cee63160fa8bed</td>\n",
       "      <td>1</td>\n",
       "      <td>1</td>\n",
       "      <td>1</td>\n",
       "      <td>0</td>\n",
       "      <td>0</td>\n",
       "      <td>0</td>\n",
       "      <td>1</td>\n",
       "    </tr>\n",
       "    <tr>\n",
       "      <th>3</th>\n",
       "      <td>5</td>\n",
       "      <td>5</td>\n",
       "      <td>7</td>\n",
       "      <td>9b98b8c7a33c4b65b9aebfe6a799e6d9</td>\n",
       "      <td>1</td>\n",
       "      <td>1</td>\n",
       "      <td>1</td>\n",
       "      <td>0</td>\n",
       "      <td>1</td>\n",
       "      <td>0</td>\n",
       "      <td>0</td>\n",
       "    </tr>\n",
       "    <tr>\n",
       "      <th>4</th>\n",
       "      <td>5</td>\n",
       "      <td>20</td>\n",
       "      <td>10</td>\n",
       "      <td>0b1e1539f2cc45b7b9fa7c272da2e1d7</td>\n",
       "      <td>1</td>\n",
       "      <td>1</td>\n",
       "      <td>0</td>\n",
       "      <td>0</td>\n",
       "      <td>0</td>\n",
       "      <td>1</td>\n",
       "      <td>0</td>\n",
       "    </tr>\n",
       "    <tr>\n",
       "      <th>5</th>\n",
       "      <td>3</td>\n",
       "      <td>7</td>\n",
       "      <td>7</td>\n",
       "      <td>2298d6c36e964ae4a3e7e9706d1fb8c2</td>\n",
       "      <td>1</td>\n",
       "      <td>1</td>\n",
       "      <td>1</td>\n",
       "      <td>1</td>\n",
       "      <td>0</td>\n",
       "      <td>1</td>\n",
       "      <td>0</td>\n",
       "    </tr>\n",
       "    <tr>\n",
       "      <th>6</th>\n",
       "      <td>2</td>\n",
       "      <td>10</td>\n",
       "      <td>10</td>\n",
       "      <td>fafdcd668e3743c1bb461111dcafc2a4</td>\n",
       "      <td>1</td>\n",
       "      <td>1</td>\n",
       "      <td>1</td>\n",
       "      <td>1</td>\n",
       "      <td>0</td>\n",
       "      <td>1</td>\n",
       "      <td>0</td>\n",
       "    </tr>\n",
       "    <tr>\n",
       "      <th>7</th>\n",
       "      <td>0</td>\n",
       "      <td>0</td>\n",
       "      <td>3</td>\n",
       "      <td>5a8bc65990b245e5a138643cd4eb9837</td>\n",
       "      <td>0</td>\n",
       "      <td>1</td>\n",
       "      <td>1</td>\n",
       "      <td>1</td>\n",
       "      <td>0</td>\n",
       "      <td>0</td>\n",
       "      <td>1</td>\n",
       "    </tr>\n",
       "    <tr>\n",
       "      <th>8</th>\n",
       "      <td>5</td>\n",
       "      <td>5</td>\n",
       "      <td>5</td>\n",
       "      <td>f19421c1d4aa40978ebb69ca19b0e20d</td>\n",
       "      <td>1</td>\n",
       "      <td>1</td>\n",
       "      <td>1</td>\n",
       "      <td>1</td>\n",
       "      <td>1</td>\n",
       "      <td>0</td>\n",
       "      <td>0</td>\n",
       "    </tr>\n",
       "    <tr>\n",
       "      <th>9</th>\n",
       "      <td>2</td>\n",
       "      <td>10</td>\n",
       "      <td>7</td>\n",
       "      <td>2906b810c7d4411798c6938adc9daaa5</td>\n",
       "      <td>1</td>\n",
       "      <td>1</td>\n",
       "      <td>1</td>\n",
       "      <td>0</td>\n",
       "      <td>0</td>\n",
       "      <td>1</td>\n",
       "      <td>0</td>\n",
       "    </tr>\n",
       "  </tbody>\n",
       "</table>\n",
       "</div>"
      ],
      "text/plain": [
       "   reward  difficulty  duration                                id  web  email  \\\n",
       "0      10          10         7  ae264e3637204a6fb9bb56bc8210ddfd    0      1   \n",
       "1      10          10         5  4d5c57ea9a6940dd891ad53e9dbe8da0    1      1   \n",
       "2       0           0         4  3f207df678b143eea3cee63160fa8bed    1      1   \n",
       "3       5           5         7  9b98b8c7a33c4b65b9aebfe6a799e6d9    1      1   \n",
       "4       5          20        10  0b1e1539f2cc45b7b9fa7c272da2e1d7    1      1   \n",
       "5       3           7         7  2298d6c36e964ae4a3e7e9706d1fb8c2    1      1   \n",
       "6       2          10        10  fafdcd668e3743c1bb461111dcafc2a4    1      1   \n",
       "7       0           0         3  5a8bc65990b245e5a138643cd4eb9837    0      1   \n",
       "8       5           5         5  f19421c1d4aa40978ebb69ca19b0e20d    1      1   \n",
       "9       2          10         7  2906b810c7d4411798c6938adc9daaa5    1      1   \n",
       "\n",
       "   mobile  social  bogo  discount  informational  \n",
       "0       1       1     1         0              0  \n",
       "1       1       1     1         0              0  \n",
       "2       1       0     0         0              1  \n",
       "3       1       0     1         0              0  \n",
       "4       0       0     0         1              0  \n",
       "5       1       1     0         1              0  \n",
       "6       1       1     0         1              0  \n",
       "7       1       1     0         0              1  \n",
       "8       1       1     1         0              0  \n",
       "9       1       0     0         1              0  "
      ]
     },
     "execution_count": 8,
     "metadata": {},
     "output_type": "execute_result"
    }
   ],
   "source": [
    "portfolio"
   ]
  },
  {
   "cell_type": "code",
   "execution_count": 9,
   "metadata": {},
   "outputs": [
    {
     "data": {
      "text/html": [
       "<div>\n",
       "<style scoped>\n",
       "    .dataframe tbody tr th:only-of-type {\n",
       "        vertical-align: middle;\n",
       "    }\n",
       "\n",
       "    .dataframe tbody tr th {\n",
       "        vertical-align: top;\n",
       "    }\n",
       "\n",
       "    .dataframe thead th {\n",
       "        text-align: right;\n",
       "    }\n",
       "</style>\n",
       "<table border=\"1\" class=\"dataframe\">\n",
       "  <thead>\n",
       "    <tr style=\"text-align: right;\">\n",
       "      <th></th>\n",
       "      <th>gender</th>\n",
       "      <th>age</th>\n",
       "      <th>id</th>\n",
       "      <th>became_member_on</th>\n",
       "      <th>income</th>\n",
       "    </tr>\n",
       "  </thead>\n",
       "  <tbody>\n",
       "    <tr>\n",
       "      <th>0</th>\n",
       "      <td>None</td>\n",
       "      <td>118</td>\n",
       "      <td>68be06ca386d4c31939f3a4f0e3dd783</td>\n",
       "      <td>20170212</td>\n",
       "      <td>NaN</td>\n",
       "    </tr>\n",
       "    <tr>\n",
       "      <th>1</th>\n",
       "      <td>F</td>\n",
       "      <td>55</td>\n",
       "      <td>0610b486422d4921ae7d2bf64640c50b</td>\n",
       "      <td>20170715</td>\n",
       "      <td>112000.0</td>\n",
       "    </tr>\n",
       "    <tr>\n",
       "      <th>2</th>\n",
       "      <td>None</td>\n",
       "      <td>118</td>\n",
       "      <td>38fe809add3b4fcf9315a9694bb96ff5</td>\n",
       "      <td>20180712</td>\n",
       "      <td>NaN</td>\n",
       "    </tr>\n",
       "    <tr>\n",
       "      <th>3</th>\n",
       "      <td>F</td>\n",
       "      <td>75</td>\n",
       "      <td>78afa995795e4d85b5d9ceeca43f5fef</td>\n",
       "      <td>20170509</td>\n",
       "      <td>100000.0</td>\n",
       "    </tr>\n",
       "    <tr>\n",
       "      <th>4</th>\n",
       "      <td>None</td>\n",
       "      <td>118</td>\n",
       "      <td>a03223e636434f42ac4c3df47e8bac43</td>\n",
       "      <td>20170804</td>\n",
       "      <td>NaN</td>\n",
       "    </tr>\n",
       "    <tr>\n",
       "      <th>...</th>\n",
       "      <td>...</td>\n",
       "      <td>...</td>\n",
       "      <td>...</td>\n",
       "      <td>...</td>\n",
       "      <td>...</td>\n",
       "    </tr>\n",
       "    <tr>\n",
       "      <th>16995</th>\n",
       "      <td>F</td>\n",
       "      <td>45</td>\n",
       "      <td>6d5f3a774f3d4714ab0c092238f3a1d7</td>\n",
       "      <td>20180604</td>\n",
       "      <td>54000.0</td>\n",
       "    </tr>\n",
       "    <tr>\n",
       "      <th>16996</th>\n",
       "      <td>M</td>\n",
       "      <td>61</td>\n",
       "      <td>2cb4f97358b841b9a9773a7aa05a9d77</td>\n",
       "      <td>20180713</td>\n",
       "      <td>72000.0</td>\n",
       "    </tr>\n",
       "    <tr>\n",
       "      <th>16997</th>\n",
       "      <td>M</td>\n",
       "      <td>49</td>\n",
       "      <td>01d26f638c274aa0b965d24cefe3183f</td>\n",
       "      <td>20170126</td>\n",
       "      <td>73000.0</td>\n",
       "    </tr>\n",
       "    <tr>\n",
       "      <th>16998</th>\n",
       "      <td>F</td>\n",
       "      <td>83</td>\n",
       "      <td>9dc1421481194dcd9400aec7c9ae6366</td>\n",
       "      <td>20160307</td>\n",
       "      <td>50000.0</td>\n",
       "    </tr>\n",
       "    <tr>\n",
       "      <th>16999</th>\n",
       "      <td>F</td>\n",
       "      <td>62</td>\n",
       "      <td>e4052622e5ba45a8b96b59aba68cf068</td>\n",
       "      <td>20170722</td>\n",
       "      <td>82000.0</td>\n",
       "    </tr>\n",
       "  </tbody>\n",
       "</table>\n",
       "<p>17000 rows × 5 columns</p>\n",
       "</div>"
      ],
      "text/plain": [
       "      gender  age                                id  became_member_on  \\\n",
       "0       None  118  68be06ca386d4c31939f3a4f0e3dd783          20170212   \n",
       "1          F   55  0610b486422d4921ae7d2bf64640c50b          20170715   \n",
       "2       None  118  38fe809add3b4fcf9315a9694bb96ff5          20180712   \n",
       "3          F   75  78afa995795e4d85b5d9ceeca43f5fef          20170509   \n",
       "4       None  118  a03223e636434f42ac4c3df47e8bac43          20170804   \n",
       "...      ...  ...                               ...               ...   \n",
       "16995      F   45  6d5f3a774f3d4714ab0c092238f3a1d7          20180604   \n",
       "16996      M   61  2cb4f97358b841b9a9773a7aa05a9d77          20180713   \n",
       "16997      M   49  01d26f638c274aa0b965d24cefe3183f          20170126   \n",
       "16998      F   83  9dc1421481194dcd9400aec7c9ae6366          20160307   \n",
       "16999      F   62  e4052622e5ba45a8b96b59aba68cf068          20170722   \n",
       "\n",
       "         income  \n",
       "0           NaN  \n",
       "1      112000.0  \n",
       "2           NaN  \n",
       "3      100000.0  \n",
       "4           NaN  \n",
       "...         ...  \n",
       "16995   54000.0  \n",
       "16996   72000.0  \n",
       "16997   73000.0  \n",
       "16998   50000.0  \n",
       "16999   82000.0  \n",
       "\n",
       "[17000 rows x 5 columns]"
      ]
     },
     "execution_count": 9,
     "metadata": {},
     "output_type": "execute_result"
    }
   ],
   "source": [
    "profile"
   ]
  },
  {
   "cell_type": "code",
   "execution_count": 10,
   "metadata": {},
   "outputs": [
    {
     "data": {
      "text/plain": [
       "gender              2175\n",
       "age                    0\n",
       "id                     0\n",
       "became_member_on       0\n",
       "income              2175\n",
       "dtype: int64"
      ]
     },
     "execution_count": 10,
     "metadata": {},
     "output_type": "execute_result"
    }
   ],
   "source": [
    "profile.isnull().sum()"
   ]
  },
  {
   "cell_type": "code",
   "execution_count": 11,
   "metadata": {},
   "outputs": [
    {
     "data": {
      "text/plain": [
       "count    2175.0\n",
       "mean      118.0\n",
       "std         0.0\n",
       "min       118.0\n",
       "25%       118.0\n",
       "50%       118.0\n",
       "75%       118.0\n",
       "max       118.0\n",
       "Name: age, dtype: float64"
      ]
     },
     "execution_count": 11,
     "metadata": {},
     "output_type": "execute_result"
    }
   ],
   "source": [
    "profile.age[profile['age']>101].describe()"
   ]
  },
  {
   "cell_type": "markdown",
   "metadata": {},
   "source": [
    "#### Converting age value from 118.0 to null."
   ]
  },
  {
   "cell_type": "code",
   "execution_count": 12,
   "metadata": {},
   "outputs": [
    {
     "data": {
      "text/plain": [
       "gender              2175\n",
       "age                 2175\n",
       "id                     0\n",
       "became_member_on       0\n",
       "income              2175\n",
       "dtype: int64"
      ]
     },
     "execution_count": 12,
     "metadata": {},
     "output_type": "execute_result"
    }
   ],
   "source": [
    "profile['age'] = profile['age'].apply(lambda x: np.nan if x == 118 else x)\n",
    "profile.isnull().sum()"
   ]
  },
  {
   "cell_type": "markdown",
   "metadata": {},
   "source": [
    "#### Removing null values from 'profile' data"
   ]
  },
  {
   "cell_type": "code",
   "execution_count": 13,
   "metadata": {},
   "outputs": [
    {
     "data": {
      "text/plain": [
       "gender              0\n",
       "age                 0\n",
       "id                  0\n",
       "became_member_on    0\n",
       "income              0\n",
       "dtype: int64"
      ]
     },
     "execution_count": 13,
     "metadata": {},
     "output_type": "execute_result"
    }
   ],
   "source": [
    "profile.dropna(inplace=True)\n",
    "profile.isnull().sum()"
   ]
  },
  {
   "cell_type": "markdown",
   "metadata": {},
   "source": [
    "#### Converting membership date to datetime and extracting Year, month and day name."
   ]
  },
  {
   "cell_type": "code",
   "execution_count": 14,
   "metadata": {},
   "outputs": [],
   "source": [
    "profile['became_member_on'] = pd.to_datetime(profile['became_member_on'], format='%Y%m%d')"
   ]
  },
  {
   "cell_type": "code",
   "execution_count": 15,
   "metadata": {},
   "outputs": [],
   "source": [
    "#dropping column 'became_member_on' from the profile table.\n",
    "year = [dt.year for dt in profile['became_member_on']]\n",
    "month = [dt.month for dt in profile['became_member_on']]\n",
    "day = [calendar.day_name[dt.weekday()] for dt in profile['became_member_on']]\n",
    "\n",
    "profile['membership_year'] = year\n",
    "profile['membership_month'] = month\n",
    "profile['membership_day'] = day\n",
    "\n",
    "profile = profile.drop(columns = ['became_member_on'])"
   ]
  },
  {
   "cell_type": "code",
   "execution_count": 16,
   "metadata": {},
   "outputs": [
    {
     "data": {
      "text/html": [
       "<div>\n",
       "<style scoped>\n",
       "    .dataframe tbody tr th:only-of-type {\n",
       "        vertical-align: middle;\n",
       "    }\n",
       "\n",
       "    .dataframe tbody tr th {\n",
       "        vertical-align: top;\n",
       "    }\n",
       "\n",
       "    .dataframe thead th {\n",
       "        text-align: right;\n",
       "    }\n",
       "</style>\n",
       "<table border=\"1\" class=\"dataframe\">\n",
       "  <thead>\n",
       "    <tr style=\"text-align: right;\">\n",
       "      <th></th>\n",
       "      <th>person</th>\n",
       "      <th>event</th>\n",
       "      <th>value</th>\n",
       "      <th>time</th>\n",
       "    </tr>\n",
       "  </thead>\n",
       "  <tbody>\n",
       "    <tr>\n",
       "      <th>0</th>\n",
       "      <td>78afa995795e4d85b5d9ceeca43f5fef</td>\n",
       "      <td>offer received</td>\n",
       "      <td>{'offer id': '9b98b8c7a33c4b65b9aebfe6a799e6d9'}</td>\n",
       "      <td>0</td>\n",
       "    </tr>\n",
       "    <tr>\n",
       "      <th>1</th>\n",
       "      <td>a03223e636434f42ac4c3df47e8bac43</td>\n",
       "      <td>offer received</td>\n",
       "      <td>{'offer id': '0b1e1539f2cc45b7b9fa7c272da2e1d7'}</td>\n",
       "      <td>0</td>\n",
       "    </tr>\n",
       "    <tr>\n",
       "      <th>2</th>\n",
       "      <td>e2127556f4f64592b11af22de27a7932</td>\n",
       "      <td>offer received</td>\n",
       "      <td>{'offer id': '2906b810c7d4411798c6938adc9daaa5'}</td>\n",
       "      <td>0</td>\n",
       "    </tr>\n",
       "    <tr>\n",
       "      <th>3</th>\n",
       "      <td>8ec6ce2a7e7949b1bf142def7d0e0586</td>\n",
       "      <td>offer received</td>\n",
       "      <td>{'offer id': 'fafdcd668e3743c1bb461111dcafc2a4'}</td>\n",
       "      <td>0</td>\n",
       "    </tr>\n",
       "    <tr>\n",
       "      <th>4</th>\n",
       "      <td>68617ca6246f4fbc85e91a2a49552598</td>\n",
       "      <td>offer received</td>\n",
       "      <td>{'offer id': '4d5c57ea9a6940dd891ad53e9dbe8da0'}</td>\n",
       "      <td>0</td>\n",
       "    </tr>\n",
       "    <tr>\n",
       "      <th>...</th>\n",
       "      <td>...</td>\n",
       "      <td>...</td>\n",
       "      <td>...</td>\n",
       "      <td>...</td>\n",
       "    </tr>\n",
       "    <tr>\n",
       "      <th>306529</th>\n",
       "      <td>b3a1272bc9904337b331bf348c3e8c17</td>\n",
       "      <td>transaction</td>\n",
       "      <td>{'amount': 1.5899999999999999}</td>\n",
       "      <td>714</td>\n",
       "    </tr>\n",
       "    <tr>\n",
       "      <th>306530</th>\n",
       "      <td>68213b08d99a4ae1b0dcb72aebd9aa35</td>\n",
       "      <td>transaction</td>\n",
       "      <td>{'amount': 9.53}</td>\n",
       "      <td>714</td>\n",
       "    </tr>\n",
       "    <tr>\n",
       "      <th>306531</th>\n",
       "      <td>a00058cf10334a308c68e7631c529907</td>\n",
       "      <td>transaction</td>\n",
       "      <td>{'amount': 3.61}</td>\n",
       "      <td>714</td>\n",
       "    </tr>\n",
       "    <tr>\n",
       "      <th>306532</th>\n",
       "      <td>76ddbd6576844afe811f1a3c0fbb5bec</td>\n",
       "      <td>transaction</td>\n",
       "      <td>{'amount': 3.5300000000000002}</td>\n",
       "      <td>714</td>\n",
       "    </tr>\n",
       "    <tr>\n",
       "      <th>306533</th>\n",
       "      <td>c02b10e8752c4d8e9b73f918558531f7</td>\n",
       "      <td>transaction</td>\n",
       "      <td>{'amount': 4.05}</td>\n",
       "      <td>714</td>\n",
       "    </tr>\n",
       "  </tbody>\n",
       "</table>\n",
       "<p>306534 rows × 4 columns</p>\n",
       "</div>"
      ],
      "text/plain": [
       "                                  person           event  \\\n",
       "0       78afa995795e4d85b5d9ceeca43f5fef  offer received   \n",
       "1       a03223e636434f42ac4c3df47e8bac43  offer received   \n",
       "2       e2127556f4f64592b11af22de27a7932  offer received   \n",
       "3       8ec6ce2a7e7949b1bf142def7d0e0586  offer received   \n",
       "4       68617ca6246f4fbc85e91a2a49552598  offer received   \n",
       "...                                  ...             ...   \n",
       "306529  b3a1272bc9904337b331bf348c3e8c17     transaction   \n",
       "306530  68213b08d99a4ae1b0dcb72aebd9aa35     transaction   \n",
       "306531  a00058cf10334a308c68e7631c529907     transaction   \n",
       "306532  76ddbd6576844afe811f1a3c0fbb5bec     transaction   \n",
       "306533  c02b10e8752c4d8e9b73f918558531f7     transaction   \n",
       "\n",
       "                                                   value  time  \n",
       "0       {'offer id': '9b98b8c7a33c4b65b9aebfe6a799e6d9'}     0  \n",
       "1       {'offer id': '0b1e1539f2cc45b7b9fa7c272da2e1d7'}     0  \n",
       "2       {'offer id': '2906b810c7d4411798c6938adc9daaa5'}     0  \n",
       "3       {'offer id': 'fafdcd668e3743c1bb461111dcafc2a4'}     0  \n",
       "4       {'offer id': '4d5c57ea9a6940dd891ad53e9dbe8da0'}     0  \n",
       "...                                                  ...   ...  \n",
       "306529                    {'amount': 1.5899999999999999}   714  \n",
       "306530                                  {'amount': 9.53}   714  \n",
       "306531                                  {'amount': 3.61}   714  \n",
       "306532                    {'amount': 3.5300000000000002}   714  \n",
       "306533                                  {'amount': 4.05}   714  \n",
       "\n",
       "[306534 rows x 4 columns]"
      ]
     },
     "execution_count": 16,
     "metadata": {},
     "output_type": "execute_result"
    }
   ],
   "source": [
    "transcript"
   ]
  },
  {
   "cell_type": "markdown",
   "metadata": {},
   "source": [
    "#### Extracting 'offer id' from 'value' in transcript."
   ]
  },
  {
   "cell_type": "code",
   "execution_count": 17,
   "metadata": {},
   "outputs": [],
   "source": [
    "transcript = transcript[transcript['value'].apply(lambda x: True if ('offer id' in x) or ('offer_id' in x) else False)]"
   ]
  },
  {
   "cell_type": "code",
   "execution_count": 18,
   "metadata": {},
   "outputs": [
    {
     "name": "stderr",
     "output_type": "stream",
     "text": [
      "/Applications/anaconda3/lib/python3.7/site-packages/ipykernel_launcher.py:1: SettingWithCopyWarning: \n",
      "A value is trying to be set on a copy of a slice from a DataFrame.\n",
      "Try using .loc[row_indexer,col_indexer] = value instead\n",
      "\n",
      "See the caveats in the documentation: https://pandas.pydata.org/pandas-docs/stable/user_guide/indexing.html#returning-a-view-versus-a-copy\n",
      "  \"\"\"Entry point for launching an IPython kernel.\n"
     ]
    }
   ],
   "source": [
    "transcript['offer_id'] = transcript['value'].apply(lambda x: x['offer id'] if ('offer id' in x) else x['offer_id'])"
   ]
  },
  {
   "cell_type": "code",
   "execution_count": 19,
   "metadata": {},
   "outputs": [
    {
     "data": {
      "text/html": [
       "<div>\n",
       "<style scoped>\n",
       "    .dataframe tbody tr th:only-of-type {\n",
       "        vertical-align: middle;\n",
       "    }\n",
       "\n",
       "    .dataframe tbody tr th {\n",
       "        vertical-align: top;\n",
       "    }\n",
       "\n",
       "    .dataframe thead th {\n",
       "        text-align: right;\n",
       "    }\n",
       "</style>\n",
       "<table border=\"1\" class=\"dataframe\">\n",
       "  <thead>\n",
       "    <tr style=\"text-align: right;\">\n",
       "      <th></th>\n",
       "      <th>person</th>\n",
       "      <th>event</th>\n",
       "      <th>value</th>\n",
       "      <th>time</th>\n",
       "      <th>offer_id</th>\n",
       "    </tr>\n",
       "  </thead>\n",
       "  <tbody>\n",
       "    <tr>\n",
       "      <th>0</th>\n",
       "      <td>78afa995795e4d85b5d9ceeca43f5fef</td>\n",
       "      <td>offer received</td>\n",
       "      <td>{'offer id': '9b98b8c7a33c4b65b9aebfe6a799e6d9'}</td>\n",
       "      <td>0</td>\n",
       "      <td>9b98b8c7a33c4b65b9aebfe6a799e6d9</td>\n",
       "    </tr>\n",
       "    <tr>\n",
       "      <th>1</th>\n",
       "      <td>a03223e636434f42ac4c3df47e8bac43</td>\n",
       "      <td>offer received</td>\n",
       "      <td>{'offer id': '0b1e1539f2cc45b7b9fa7c272da2e1d7'}</td>\n",
       "      <td>0</td>\n",
       "      <td>0b1e1539f2cc45b7b9fa7c272da2e1d7</td>\n",
       "    </tr>\n",
       "    <tr>\n",
       "      <th>2</th>\n",
       "      <td>e2127556f4f64592b11af22de27a7932</td>\n",
       "      <td>offer received</td>\n",
       "      <td>{'offer id': '2906b810c7d4411798c6938adc9daaa5'}</td>\n",
       "      <td>0</td>\n",
       "      <td>2906b810c7d4411798c6938adc9daaa5</td>\n",
       "    </tr>\n",
       "    <tr>\n",
       "      <th>3</th>\n",
       "      <td>8ec6ce2a7e7949b1bf142def7d0e0586</td>\n",
       "      <td>offer received</td>\n",
       "      <td>{'offer id': 'fafdcd668e3743c1bb461111dcafc2a4'}</td>\n",
       "      <td>0</td>\n",
       "      <td>fafdcd668e3743c1bb461111dcafc2a4</td>\n",
       "    </tr>\n",
       "    <tr>\n",
       "      <th>4</th>\n",
       "      <td>68617ca6246f4fbc85e91a2a49552598</td>\n",
       "      <td>offer received</td>\n",
       "      <td>{'offer id': '4d5c57ea9a6940dd891ad53e9dbe8da0'}</td>\n",
       "      <td>0</td>\n",
       "      <td>4d5c57ea9a6940dd891ad53e9dbe8da0</td>\n",
       "    </tr>\n",
       "    <tr>\n",
       "      <th>...</th>\n",
       "      <td>...</td>\n",
       "      <td>...</td>\n",
       "      <td>...</td>\n",
       "      <td>...</td>\n",
       "      <td>...</td>\n",
       "    </tr>\n",
       "    <tr>\n",
       "      <th>306497</th>\n",
       "      <td>a6f84f4e976f44508c358cc9aba6d2b3</td>\n",
       "      <td>offer completed</td>\n",
       "      <td>{'offer_id': '2298d6c36e964ae4a3e7e9706d1fb8c2...</td>\n",
       "      <td>714</td>\n",
       "      <td>2298d6c36e964ae4a3e7e9706d1fb8c2</td>\n",
       "    </tr>\n",
       "    <tr>\n",
       "      <th>306506</th>\n",
       "      <td>b895c57e8cd047a8872ce02aa54759d6</td>\n",
       "      <td>offer completed</td>\n",
       "      <td>{'offer_id': 'fafdcd668e3743c1bb461111dcafc2a4...</td>\n",
       "      <td>714</td>\n",
       "      <td>fafdcd668e3743c1bb461111dcafc2a4</td>\n",
       "    </tr>\n",
       "    <tr>\n",
       "      <th>306507</th>\n",
       "      <td>8dda575c2a1d44b9ac8e8b07b93d1f8e</td>\n",
       "      <td>offer viewed</td>\n",
       "      <td>{'offer id': '0b1e1539f2cc45b7b9fa7c272da2e1d7'}</td>\n",
       "      <td>714</td>\n",
       "      <td>0b1e1539f2cc45b7b9fa7c272da2e1d7</td>\n",
       "    </tr>\n",
       "    <tr>\n",
       "      <th>306509</th>\n",
       "      <td>8431c16f8e1d440880db371a68f82dd0</td>\n",
       "      <td>offer completed</td>\n",
       "      <td>{'offer_id': 'fafdcd668e3743c1bb461111dcafc2a4...</td>\n",
       "      <td>714</td>\n",
       "      <td>fafdcd668e3743c1bb461111dcafc2a4</td>\n",
       "    </tr>\n",
       "    <tr>\n",
       "      <th>306527</th>\n",
       "      <td>24f56b5e1849462093931b164eb803b5</td>\n",
       "      <td>offer completed</td>\n",
       "      <td>{'offer_id': 'fafdcd668e3743c1bb461111dcafc2a4...</td>\n",
       "      <td>714</td>\n",
       "      <td>fafdcd668e3743c1bb461111dcafc2a4</td>\n",
       "    </tr>\n",
       "  </tbody>\n",
       "</table>\n",
       "<p>167581 rows × 5 columns</p>\n",
       "</div>"
      ],
      "text/plain": [
       "                                  person            event  \\\n",
       "0       78afa995795e4d85b5d9ceeca43f5fef   offer received   \n",
       "1       a03223e636434f42ac4c3df47e8bac43   offer received   \n",
       "2       e2127556f4f64592b11af22de27a7932   offer received   \n",
       "3       8ec6ce2a7e7949b1bf142def7d0e0586   offer received   \n",
       "4       68617ca6246f4fbc85e91a2a49552598   offer received   \n",
       "...                                  ...              ...   \n",
       "306497  a6f84f4e976f44508c358cc9aba6d2b3  offer completed   \n",
       "306506  b895c57e8cd047a8872ce02aa54759d6  offer completed   \n",
       "306507  8dda575c2a1d44b9ac8e8b07b93d1f8e     offer viewed   \n",
       "306509  8431c16f8e1d440880db371a68f82dd0  offer completed   \n",
       "306527  24f56b5e1849462093931b164eb803b5  offer completed   \n",
       "\n",
       "                                                    value  time  \\\n",
       "0        {'offer id': '9b98b8c7a33c4b65b9aebfe6a799e6d9'}     0   \n",
       "1        {'offer id': '0b1e1539f2cc45b7b9fa7c272da2e1d7'}     0   \n",
       "2        {'offer id': '2906b810c7d4411798c6938adc9daaa5'}     0   \n",
       "3        {'offer id': 'fafdcd668e3743c1bb461111dcafc2a4'}     0   \n",
       "4        {'offer id': '4d5c57ea9a6940dd891ad53e9dbe8da0'}     0   \n",
       "...                                                   ...   ...   \n",
       "306497  {'offer_id': '2298d6c36e964ae4a3e7e9706d1fb8c2...   714   \n",
       "306506  {'offer_id': 'fafdcd668e3743c1bb461111dcafc2a4...   714   \n",
       "306507   {'offer id': '0b1e1539f2cc45b7b9fa7c272da2e1d7'}   714   \n",
       "306509  {'offer_id': 'fafdcd668e3743c1bb461111dcafc2a4...   714   \n",
       "306527  {'offer_id': 'fafdcd668e3743c1bb461111dcafc2a4...   714   \n",
       "\n",
       "                                offer_id  \n",
       "0       9b98b8c7a33c4b65b9aebfe6a799e6d9  \n",
       "1       0b1e1539f2cc45b7b9fa7c272da2e1d7  \n",
       "2       2906b810c7d4411798c6938adc9daaa5  \n",
       "3       fafdcd668e3743c1bb461111dcafc2a4  \n",
       "4       4d5c57ea9a6940dd891ad53e9dbe8da0  \n",
       "...                                  ...  \n",
       "306497  2298d6c36e964ae4a3e7e9706d1fb8c2  \n",
       "306506  fafdcd668e3743c1bb461111dcafc2a4  \n",
       "306507  0b1e1539f2cc45b7b9fa7c272da2e1d7  \n",
       "306509  fafdcd668e3743c1bb461111dcafc2a4  \n",
       "306527  fafdcd668e3743c1bb461111dcafc2a4  \n",
       "\n",
       "[167581 rows x 5 columns]"
      ]
     },
     "execution_count": 19,
     "metadata": {},
     "output_type": "execute_result"
    }
   ],
   "source": [
    "transcript"
   ]
  },
  {
   "cell_type": "code",
   "execution_count": 20,
   "metadata": {},
   "outputs": [],
   "source": [
    "#dropping column 'value' from the transcript table.\n",
    "transcript = transcript.drop(columns = ['value'])"
   ]
  },
  {
   "cell_type": "markdown",
   "metadata": {},
   "source": [
    "### Exploratory data analysis and data visualization"
   ]
  },
  {
   "cell_type": "code",
   "execution_count": 21,
   "metadata": {},
   "outputs": [
    {
     "data": {
      "image/png": "[encoded data removed]",
      "text/plain": [
       "<Figure size 432x288 with 1 Axes>"
      ]
     },
     "metadata": {
      "needs_background": "light"
     },
     "output_type": "display_data"
    }
   ],
   "source": [
    "#Histogram to depict distributon of customer income.\n",
    "profile['income'].plot.hist()\n",
    "plt.title('Customers Income Distribution')\n",
    "plt.show()"
   ]
  },
  {
   "cell_type": "code",
   "execution_count": 22,
   "metadata": {},
   "outputs": [
    {
     "data": {
      "text/plain": [
       "count    8484.000000\n",
       "mean       52.116690\n",
       "std        17.413894\n",
       "min        18.000000\n",
       "25%        39.000000\n",
       "50%        53.000000\n",
       "75%        65.000000\n",
       "max       100.000000\n",
       "Name: age, dtype: float64"
      ]
     },
     "execution_count": 22,
     "metadata": {},
     "output_type": "execute_result"
    }
   ],
   "source": [
    "#verifying distribution of customers age - 'Males'\n",
    "profile['age'][profile['gender'] == 'M'].describe()"
   ]
  },
  {
   "cell_type": "code",
   "execution_count": 23,
   "metadata": {},
   "outputs": [
    {
     "data": {
      "text/plain": [
       "count    6129.000000\n",
       "mean       57.544950\n",
       "std        16.883315\n",
       "min        18.000000\n",
       "25%        48.000000\n",
       "50%        58.000000\n",
       "75%        69.000000\n",
       "max       101.000000\n",
       "Name: age, dtype: float64"
      ]
     },
     "execution_count": 23,
     "metadata": {},
     "output_type": "execute_result"
    }
   ],
   "source": [
    "#verifying distribution of customers age - 'Female'\n",
    "profile['age'][profile['gender'] == 'F'].describe()"
   ]
  },
  {
   "cell_type": "code",
   "execution_count": 24,
   "metadata": {},
   "outputs": [
    {
     "data": {
      "text/plain": [
       "count    212.000000\n",
       "mean      54.400943\n",
       "std       16.244710\n",
       "min       20.000000\n",
       "25%       43.000000\n",
       "50%       55.000000\n",
       "75%       66.000000\n",
       "max      100.000000\n",
       "Name: age, dtype: float64"
      ]
     },
     "execution_count": 24,
     "metadata": {},
     "output_type": "execute_result"
    }
   ],
   "source": [
    "#verifying distribution of customers age - 'Other'\n",
    "profile['age'][profile['gender'] == 'O'].describe()"
   ]
  },
  {
   "cell_type": "code",
   "execution_count": 25,
   "metadata": {},
   "outputs": [
    {
     "data": {
      "image/png": "[encoded data removed]",
      "text/plain": [
       "<Figure size 1440x288 with 3 Axes>"
      ]
     },
     "metadata": {
      "needs_background": "light"
     },
     "output_type": "display_data"
    }
   ],
   "source": [
    "#plotting histograms as subplots to represent Customers Age distribution as per gender.\n",
    "fig, ax = plt.subplots(1, 3, sharex=True, figsize=(20,4))\n",
    "plt.sca(ax[0])\n",
    "plt.hist(x=profile['age'][profile['gender'] == 'M'])\n",
    "plt.xlabel('Frequency')\n",
    "plt.ylabel('Age')\n",
    "plt.title('Males')\n",
    "plt.text(20, 1400, r'$\\mu=52.11,\\ \\sigma=17.41$')\n",
    "plt.sca(ax[1])\n",
    "plt.hist(x=profile['age'][profile['gender'] == 'F'])\n",
    "plt.xlabel('Frequency')\n",
    "plt.ylabel('Age')\n",
    "plt.title('Females')\n",
    "plt.text(20, 1100, r'$\\mu=57.54,\\ \\sigma=16.88$')\n",
    "plt.sca(ax[2])\n",
    "plt.hist(x=profile['age'][profile['gender'] == 'O'])\n",
    "plt.xlabel('Frequency')\n",
    "plt.ylabel('Age')\n",
    "plt.title('Other')\n",
    "plt.text(20, 40, r'$\\mu=54.40,\\ \\sigma=16.24$')\n",
    "fig.suptitle('Customers Age Distribution as per gender', fontsize='x-large')\n",
    "fig.subplots_adjust(top=0.85)"
   ]
  },
  {
   "cell_type": "markdown",
   "metadata": {},
   "source": [
    "The Customer Age distribution as per histogram yields results as 'Females' being amongst the highest number of customers followed by Other gender and 'Males' being the lowest in terms of customers."
   ]
  },
  {
   "cell_type": "code",
   "execution_count": 29,
   "metadata": {},
   "outputs": [
    {
     "data": {
      "image/png": "[encoded data removed]",
      "text/plain": [
       "<Figure size 1440x288 with 3 Axes>"
      ]
     },
     "metadata": {
      "needs_background": "light"
     },
     "output_type": "display_data"
    }
   ],
   "source": [
    "#Customer Income distribution as per gender depicted by histogram.\n",
    "fig, ax = plt.subplots(1, 3, sharex=True, figsize=(20,4))\n",
    "plt.sca(ax[0])\n",
    "plt.hist(x=profile['income'][profile['gender'] == 'M'])\n",
    "plt.xlabel('Frequency')\n",
    "plt.ylabel('Income')\n",
    "plt.title('Males')\n",
    "plt.text(80000, 1200, r'$\\mu=61194.60,\\ \\sigma=20069.51$')\n",
    "plt.sca(ax[1])\n",
    "plt.hist(x=profile['income'][profile['gender'] == 'F'])\n",
    "plt.xlabel('Frequency')\n",
    "plt.ylabel('Income')\n",
    "plt.title('Females')\n",
    "plt.text(80000, 850, r'$\\mu=71306.41,\\ \\sigma=22338.35$')\n",
    "plt.sca(ax[2])\n",
    "plt.hist(x=profile['income'][profile['gender'] == 'O'])\n",
    "plt.xlabel('Frequency')\n",
    "plt.ylabel('Income')\n",
    "plt.title('Other')\n",
    "plt.text(70000, 30, r'$\\mu=63287.73,\\ \\sigma=18938.59$')\n",
    "fig.suptitle('Customers Income Distribution as per gender', fontsize='x-large')\n",
    "fig.subplots_adjust(top=0.85)"
   ]
  },
  {
   "cell_type": "markdown",
   "metadata": {},
   "source": [
    "As per the histogram results, Females have the highest income as per Customer distribution followed by Other gender categories and the lowest being 'Males'"
   ]
  },
  {
   "cell_type": "code",
   "execution_count": 30,
   "metadata": {},
   "outputs": [
    {
     "data": {
      "image/png": "[encoded data removed]",
      "text/plain": [
       "<Figure size 1440x288 with 3 Axes>"
      ]
     },
     "metadata": {
      "needs_background": "light"
     },
     "output_type": "display_data"
    }
   ],
   "source": [
    "#Count of members who joined as per membership year.\n",
    "fig, ax = plt.subplots(1, 3, sharex=True, figsize=(20,4))\n",
    "plt.sca(ax[0])\n",
    "plt.bar(x=pd.value_counts(profile['membership_year'][profile['gender'] == 'M']).index, height=pd.value_counts(profile['membership_year'][profile['gender'] == 'M']))\n",
    "plt.xlabel('Year')\n",
    "plt.ylabel('Frequency')\n",
    "plt.title('Males')\n",
    "plt.sca(ax[1])\n",
    "plt.bar(x=pd.value_counts(profile['membership_year'][profile['gender'] == 'F']).index, height=pd.value_counts(profile['membership_year'][profile['gender'] == 'F']))\n",
    "plt.xlabel('Year')\n",
    "plt.ylabel('Frequency')\n",
    "plt.title('Females')\n",
    "plt.sca(ax[2])\n",
    "plt.bar(x=pd.value_counts(profile['membership_year'][profile['gender'] == 'O']).index, height=pd.value_counts(profile['membership_year'][profile['gender'] == 'O']))\n",
    "plt.xlabel('Year')\n",
    "plt.ylabel('Frequency')\n",
    "plt.title('Other')\n",
    "fig.suptitle('Membership Year as per gender', fontsize='x-large')\n",
    "fig.subplots_adjust(top=0.85)"
   ]
  },
  {
   "cell_type": "markdown",
   "metadata": {},
   "source": [
    "As per the bar plots, 2017 has been the highest number of memberships in all three gender categories and 2013 have had the lowest number of memberships."
   ]
  },
  {
   "cell_type": "code",
   "execution_count": 31,
   "metadata": {},
   "outputs": [
    {
     "data": {
      "image/png": "[encoded data removed]",
      "text/plain": [
       "<Figure size 1440x288 with 3 Axes>"
      ]
     },
     "metadata": {
      "needs_background": "light"
     },
     "output_type": "display_data"
    }
   ],
   "source": [
    "#Count of members who joined as per membership month.\n",
    "fig, ax = plt.subplots(1, 3, sharex=True, figsize=(20,4))\n",
    "plt.sca(ax[0])\n",
    "plt.bar(x=pd.value_counts(profile['membership_month'][profile['gender'] == 'M']).index, height=pd.value_counts(profile['membership_month'][profile['gender'] == 'M']))\n",
    "plt.xlabel('Month')\n",
    "plt.ylabel('Frequency')\n",
    "plt.title('Males')\n",
    "plt.sca(ax[1])\n",
    "plt.bar(x=pd.value_counts(profile['membership_month'][profile['gender'] == 'F']).index, height=pd.value_counts(profile['membership_month'][profile['gender'] == 'F']))\n",
    "plt.xlabel('Month')\n",
    "plt.ylabel('Frequency')\n",
    "plt.title('Females')\n",
    "plt.sca(ax[2])\n",
    "plt.bar(x=pd.value_counts(profile['membership_month'][profile['gender'] == 'O']).index, height=pd.value_counts(profile['membership_month'][profile['gender'] == 'O']))\n",
    "plt.xlabel('Month')\n",
    "plt.ylabel('Frequency')\n",
    "plt.title('Other')\n",
    "fig.suptitle('Membership Month as per gender', fontsize='x-large')\n",
    "fig.subplots_adjust(top=0.85)"
   ]
  },
  {
   "cell_type": "markdown",
   "metadata": {},
   "source": [
    "As per bar plots, Males have highest memberships in the month of January and August, Females have highest memberships in December and Other gender have highest memberships in October. Males have lowest memberships in February and June, Females have lowest memberships in February and Other genders have lowest memberships in January, March, July and November. "
   ]
  },
  {
   "cell_type": "code",
   "execution_count": 32,
   "metadata": {},
   "outputs": [
    {
     "data": {
      "image/png": "[encoded data removed]",
      "text/plain": [
       "<Figure size 1440x288 with 3 Axes>"
      ]
     },
     "metadata": {
      "needs_background": "light"
     },
     "output_type": "display_data"
    }
   ],
   "source": [
    "#Count of members who joined as per membership day.\n",
    "fig, ax = plt.subplots(1, 3, sharex=True, figsize=(20,4))\n",
    "plt.sca(ax[0])\n",
    "plt.bar(x=pd.value_counts(profile['membership_day'][profile['gender'] == 'M']).index, height=pd.value_counts(profile['membership_day'][profile['gender'] == 'M']))\n",
    "plt.xlabel('Day')\n",
    "plt.ylabel('Frequency')\n",
    "plt.title('Males')\n",
    "plt.sca(ax[1])\n",
    "plt.bar(x=pd.value_counts(profile['membership_day'][profile['gender'] == 'F']).index, height=pd.value_counts(profile['membership_day'][profile['gender'] == 'F']))\n",
    "plt.xlabel('Day')\n",
    "plt.ylabel('Frequency')\n",
    "plt.title('Females')\n",
    "plt.sca(ax[2])\n",
    "plt.bar(x=pd.value_counts(profile['membership_day'][profile['gender'] == 'O']).index, height=pd.value_counts(profile['membership_day'][profile['gender'] == 'O']))\n",
    "plt.xlabel('Day')\n",
    "plt.ylabel('Frequency')\n",
    "plt.title('Other')\n",
    "fig.suptitle('Membership Day as per gender', fontsize='x-large')\n",
    "fig.subplots_adjust(top=0.85)"
   ]
  },
  {
   "cell_type": "markdown",
   "metadata": {},
   "source": [
    "As per bar plots, Males have had the highest number of memberships on Saturdays and lowest on Fridays, Femals have the highest number of memberships on Sunday and Tuesdays, lowest on Saturdays and Wednesdays, Other gender category has had the highest memberships on Thursdays and lowest on Saturdays. \n",
    "Considering Males and Females, we don't see much difference with memberships as per day but with Other gender, we can observe a significant difference with membership on certain days."
   ]
  },
  {
   "cell_type": "code",
   "execution_count": 33,
   "metadata": {},
   "outputs": [
    {
     "data": {
      "text/plain": [
       "<matplotlib.axes._subplots.AxesSubplot at 0x1a19932190>"
      ]
     },
     "execution_count": 33,
     "metadata": {},
     "output_type": "execute_result"
    },
    {
     "data": {
      "image/png": "[encoded data removed]",
      "text/plain": [
       "<Figure size 432x288 with 1 Axes>"
      ]
     },
     "metadata": {
      "needs_background": "light"
     },
     "output_type": "display_data"
    }
   ],
   "source": [
    "pd.value_counts(transcript['event']).plot.bar()"
   ]
  },
  {
   "cell_type": "code",
   "execution_count": 37,
   "metadata": {},
   "outputs": [
    {
     "data": {
      "image/png": "[encoded data removed]",
      "text/plain": [
       "<Figure size 1440x288 with 3 Axes>"
      ]
     },
     "metadata": {
      "needs_background": "light"
     },
     "output_type": "display_data"
    }
   ],
   "source": [
    "#Frequency and time histogram plots as per event\n",
    "fig, ax = plt.subplots(1, 3, sharex=True, figsize=(20,4))\n",
    "plt.sca(ax[0])\n",
    "plt.hist(x=transcript['time'][transcript['event'] == 'offer received'])\n",
    "plt.xlabel('Time')\n",
    "plt.ylabel('Frequency')\n",
    "plt.title('offer received')\n",
    "plt.text(100, 12800, r'$\\mu=332.579519,\\ \\sigma=196.489548$')\n",
    "plt.sca(ax[1])\n",
    "plt.hist(x=transcript['time'][transcript['event'] == 'offer viewed'])\n",
    "plt.xlabel('Time')\n",
    "plt.ylabel('Frequency')\n",
    "plt.title('offer viewed')\n",
    "plt.text(0, 9000, r'$\\mu=354.290515,\\ \\sigma=199.317684$')\n",
    "plt.sca(ax[2])\n",
    "plt.hist(x=transcript['time'][transcript['event'] == 'offer completed'])\n",
    "plt.xlabel('Time')\n",
    "plt.ylabel('Frequency')\n",
    "plt.title('offer completed')\n",
    "plt.text(100, 5700, r'$\\mu=401.052801,\\ \\sigma=192.352614$')\n",
    "fig.suptitle('Frequency and time as per Event', fontsize='x-large')\n",
    "fig.subplots_adjust(top=0.85)"
   ]
  },
  {
   "cell_type": "markdown",
   "metadata": {},
   "source": [
    "#### Merging 'portfolio' and 'transcript' on offer id using an Inner Join."
   ]
  },
  {
   "cell_type": "markdown",
   "metadata": {},
   "source": [
    "As per histograms, there are highest number of offers completed followed by offers viewed and offers received."
   ]
  },
  {
   "cell_type": "code",
   "execution_count": 38,
   "metadata": {},
   "outputs": [],
   "source": [
    "result = pd.merge(portfolio, transcript,\n",
    "                 left_on = 'id',\n",
    "                 right_on = 'offer_id',\n",
    "                how = 'inner')\n",
    "result.rename(columns={'id':'offer_id_t','offer_id':'offer_id_pt','person':'mem_id_t'},inplace=True)"
   ]
  },
  {
   "cell_type": "code",
   "execution_count": 39,
   "metadata": {},
   "outputs": [
    {
     "data": {
      "image/png": "[encoded data removed]",
      "text/plain": [
       "<Figure size 1440x288 with 3 Axes>"
      ]
     },
     "metadata": {
      "needs_background": "light"
     },
     "output_type": "display_data"
    }
   ],
   "source": [
    "#Bar plots for Offer types as per event.\n",
    "fig, ax = plt.subplots(1, 3, sharex=True, figsize=(20,4))\n",
    "plt.sca(ax[0])\n",
    "plt.bar(x=pd.value_counts(result['event'][result['bogo'] == 1]).index, height=pd.value_counts(result['event'][result['bogo'] == 1]))\n",
    "plt.xlabel('Event')\n",
    "plt.ylabel('Frequency')\n",
    "plt.title('BOGO')\n",
    "plt.sca(ax[1])\n",
    "plt.bar(x=pd.value_counts(result['event'][result['informational'] == 1]).index, height=pd.value_counts(result['event'][result['informational'] == 1]))\n",
    "plt.xlabel('Event')\n",
    "plt.ylabel('Frequency')\n",
    "plt.title('INFORMATIONAL')\n",
    "plt.sca(ax[2])\n",
    "plt.bar(x=pd.value_counts(result['event'][result['discount'] == 1]).index, height=pd.value_counts(result['event'][result['discount'] == 1]))\n",
    "plt.xlabel('Event')\n",
    "plt.ylabel('Frequency')\n",
    "plt.title('DISCOUNT')\n",
    "fig.suptitle('Offer types as per Event', fontsize='x-large')\n",
    "fig.subplots_adjust(top=0.85)"
   ]
  },
  {
   "cell_type": "markdown",
   "metadata": {},
   "source": [
    "As per the above Bar plots, Bogo and Discount have the highest number of offers received and Informational has the highest number of offers completed followed by Offer viewed in Bogo and Discount and offer received in Informational and the lowest in Bogo and Discount for offers completed. \n",
    "This just goes to prove that for Informational portfolio type, it isn't necessary that a member completes the transaction for offer viewed in for the transaction to be successfully completed."
   ]
  },
  {
   "cell_type": "code",
   "execution_count": 40,
   "metadata": {},
   "outputs": [
    {
     "data": {
      "image/png": "[encoded data removed]",
      "text/plain": [
       "<Figure size 1440x720 with 4 Axes>"
      ]
     },
     "metadata": {
      "needs_background": "light"
     },
     "output_type": "display_data"
    }
   ],
   "source": [
    "#Bar plots for communication types as per event\n",
    "fig, ax = plt.subplots(2, 2, figsize=(20,10))\n",
    "plt.sca(ax[0,0])\n",
    "plt.bar(x=pd.value_counts(result['event'][result['web'] == 1]).index, height=pd.value_counts(result['event'][result['web'] == 1]))\n",
    "plt.xlabel('Event')\n",
    "plt.ylabel('Frequency')\n",
    "plt.title('Web')\n",
    "plt.sca(ax[0,1])\n",
    "plt.bar(x=pd.value_counts(result['event'][result['email'] == 1]).index, height=pd.value_counts(result['event'][result['email'] == 1]))\n",
    "plt.xlabel('Event')\n",
    "plt.ylabel('Frequency')\n",
    "plt.title('E-mail')\n",
    "plt.sca(ax[1,0])\n",
    "plt.bar(x=pd.value_counts(result['event'][result['social'] == 1]).index, height=pd.value_counts(result['event'][result['social'] == 1]))\n",
    "plt.xlabel('Event')\n",
    "plt.ylabel('Frequency')\n",
    "plt.title('Social')\n",
    "plt.sca(ax[1,1])\n",
    "plt.bar(x=pd.value_counts(result['event'][result['mobile'] == 1]).index, height=pd.value_counts(result['event'][result['mobile'] == 1]))\n",
    "plt.xlabel('Event')\n",
    "plt.ylabel('Frequency')\n",
    "plt.title('Mobile')\n",
    "fig.suptitle('Communication types as per Event', fontsize='x-large')\n",
    "fig.subplots_adjust(top=0.85)"
   ]
  },
  {
   "cell_type": "markdown",
   "metadata": {},
   "source": [
    "#### Merging result (portfolio and transcript) with profile on membership id using an Inner Join."
   ]
  },
  {
   "cell_type": "markdown",
   "metadata": {},
   "source": [
    "Portfolios with Web, Mobile, E-mail and Social have the highest numbers of Offers received with moderate number of offers viewed. Social has the highest number of offers viewed followed by Web being the lowest in terms of completed offers."
   ]
  },
  {
   "cell_type": "code",
   "execution_count": 41,
   "metadata": {},
   "outputs": [],
   "source": [
    "result = pd.merge(result, profile,\n",
    "                 left_on = 'mem_id_t',\n",
    "                 right_on = 'id',\n",
    "                how = 'inner')\n",
    "result = result.drop(columns = ['id','offer_id_pt'])"
   ]
  },
  {
   "cell_type": "code",
   "execution_count": 42,
   "metadata": {},
   "outputs": [
    {
     "data": {
      "image/png": "[encoded data removed]",
      "text/plain": [
       "<Figure size 1440x288 with 3 Axes>"
      ]
     },
     "metadata": {
      "needs_background": "light"
     },
     "output_type": "display_data"
    }
   ],
   "source": [
    "#Bar plots for offer types as per event\n",
    "fig, ax = plt.subplots(1, 3, sharex=True, figsize=(20,4))\n",
    "plt.sca(ax[0])\n",
    "plt.bar(x=pd.value_counts(result['event'][result['gender'] == 'M']).index, height=pd.value_counts(result['event'][result['gender'] == 'M']))\n",
    "plt.xlabel('Event')\n",
    "plt.ylabel('Frequency')\n",
    "plt.title('BOGO')\n",
    "plt.sca(ax[1])\n",
    "plt.bar(x=pd.value_counts(result['event'][result['gender'] == 'F']).index, height=pd.value_counts(result['event'][result['gender'] == 'F']))\n",
    "plt.xlabel('Event')\n",
    "plt.ylabel('Frequency')\n",
    "plt.title('DISCOUNT')\n",
    "plt.sca(ax[2])\n",
    "plt.bar(x=pd.value_counts(result['event'][result['gender'] == 'O']).index, height=pd.value_counts(result['event'][result['gender'] == 'O']))\n",
    "plt.xlabel('Event')\n",
    "plt.ylabel('Frequency')\n",
    "plt.title('INFORMATIONAL')\n",
    "fig.suptitle('Offer types as per Event', fontsize='x-large')\n",
    "fig.subplots_adjust(top=0.85)"
   ]
  },
  {
   "cell_type": "markdown",
   "metadata": {},
   "source": [
    "As per the above bar plots, Bogo, Discount and Informational portfolios have the highest number of offers received followed by offer viewed and the lowest of completed offers."
   ]
  },
  {
   "cell_type": "markdown",
   "metadata": {},
   "source": [
    "### Data transformation and prediction using Maching Learning\n",
    "Generating one hot encoded values from event."
   ]
  },
  {
   "cell_type": "code",
   "execution_count": 43,
   "metadata": {},
   "outputs": [
    {
     "data": {
      "text/html": [
       "<div>\n",
       "<style scoped>\n",
       "    .dataframe tbody tr th:only-of-type {\n",
       "        vertical-align: middle;\n",
       "    }\n",
       "\n",
       "    .dataframe tbody tr th {\n",
       "        vertical-align: top;\n",
       "    }\n",
       "\n",
       "    .dataframe thead th {\n",
       "        text-align: right;\n",
       "    }\n",
       "</style>\n",
       "<table border=\"1\" class=\"dataframe\">\n",
       "  <thead>\n",
       "    <tr style=\"text-align: right;\">\n",
       "      <th></th>\n",
       "      <th>reward</th>\n",
       "      <th>difficulty</th>\n",
       "      <th>duration</th>\n",
       "      <th>offer_id_t</th>\n",
       "      <th>web</th>\n",
       "      <th>email</th>\n",
       "      <th>mobile</th>\n",
       "      <th>social</th>\n",
       "      <th>bogo</th>\n",
       "      <th>discount</th>\n",
       "      <th>...</th>\n",
       "      <th>time</th>\n",
       "      <th>gender</th>\n",
       "      <th>age</th>\n",
       "      <th>income</th>\n",
       "      <th>membership_year</th>\n",
       "      <th>membership_month</th>\n",
       "      <th>membership_day</th>\n",
       "      <th>offer completed</th>\n",
       "      <th>offer received</th>\n",
       "      <th>offer viewed</th>\n",
       "    </tr>\n",
       "  </thead>\n",
       "  <tbody>\n",
       "    <tr>\n",
       "      <th>0</th>\n",
       "      <td>10</td>\n",
       "      <td>10</td>\n",
       "      <td>7</td>\n",
       "      <td>ae264e3637204a6fb9bb56bc8210ddfd</td>\n",
       "      <td>0</td>\n",
       "      <td>1</td>\n",
       "      <td>1</td>\n",
       "      <td>1</td>\n",
       "      <td>1</td>\n",
       "      <td>0</td>\n",
       "      <td>...</td>\n",
       "      <td>0</td>\n",
       "      <td>M</td>\n",
       "      <td>64.0</td>\n",
       "      <td>100000.0</td>\n",
       "      <td>2017</td>\n",
       "      <td>9</td>\n",
       "      <td>Saturday</td>\n",
       "      <td>0</td>\n",
       "      <td>1</td>\n",
       "      <td>0</td>\n",
       "    </tr>\n",
       "    <tr>\n",
       "      <th>1</th>\n",
       "      <td>10</td>\n",
       "      <td>10</td>\n",
       "      <td>7</td>\n",
       "      <td>ae264e3637204a6fb9bb56bc8210ddfd</td>\n",
       "      <td>0</td>\n",
       "      <td>1</td>\n",
       "      <td>1</td>\n",
       "      <td>1</td>\n",
       "      <td>1</td>\n",
       "      <td>0</td>\n",
       "      <td>...</td>\n",
       "      <td>102</td>\n",
       "      <td>M</td>\n",
       "      <td>64.0</td>\n",
       "      <td>100000.0</td>\n",
       "      <td>2017</td>\n",
       "      <td>9</td>\n",
       "      <td>Saturday</td>\n",
       "      <td>0</td>\n",
       "      <td>0</td>\n",
       "      <td>1</td>\n",
       "    </tr>\n",
       "    <tr>\n",
       "      <th>2</th>\n",
       "      <td>10</td>\n",
       "      <td>10</td>\n",
       "      <td>7</td>\n",
       "      <td>ae264e3637204a6fb9bb56bc8210ddfd</td>\n",
       "      <td>0</td>\n",
       "      <td>1</td>\n",
       "      <td>1</td>\n",
       "      <td>1</td>\n",
       "      <td>1</td>\n",
       "      <td>0</td>\n",
       "      <td>...</td>\n",
       "      <td>504</td>\n",
       "      <td>M</td>\n",
       "      <td>64.0</td>\n",
       "      <td>100000.0</td>\n",
       "      <td>2017</td>\n",
       "      <td>9</td>\n",
       "      <td>Saturday</td>\n",
       "      <td>0</td>\n",
       "      <td>1</td>\n",
       "      <td>0</td>\n",
       "    </tr>\n",
       "    <tr>\n",
       "      <th>3</th>\n",
       "      <td>10</td>\n",
       "      <td>10</td>\n",
       "      <td>7</td>\n",
       "      <td>ae264e3637204a6fb9bb56bc8210ddfd</td>\n",
       "      <td>0</td>\n",
       "      <td>1</td>\n",
       "      <td>1</td>\n",
       "      <td>1</td>\n",
       "      <td>1</td>\n",
       "      <td>0</td>\n",
       "      <td>...</td>\n",
       "      <td>510</td>\n",
       "      <td>M</td>\n",
       "      <td>64.0</td>\n",
       "      <td>100000.0</td>\n",
       "      <td>2017</td>\n",
       "      <td>9</td>\n",
       "      <td>Saturday</td>\n",
       "      <td>0</td>\n",
       "      <td>0</td>\n",
       "      <td>1</td>\n",
       "    </tr>\n",
       "    <tr>\n",
       "      <th>4</th>\n",
       "      <td>10</td>\n",
       "      <td>10</td>\n",
       "      <td>7</td>\n",
       "      <td>ae264e3637204a6fb9bb56bc8210ddfd</td>\n",
       "      <td>0</td>\n",
       "      <td>1</td>\n",
       "      <td>1</td>\n",
       "      <td>1</td>\n",
       "      <td>1</td>\n",
       "      <td>0</td>\n",
       "      <td>...</td>\n",
       "      <td>510</td>\n",
       "      <td>M</td>\n",
       "      <td>64.0</td>\n",
       "      <td>100000.0</td>\n",
       "      <td>2017</td>\n",
       "      <td>9</td>\n",
       "      <td>Saturday</td>\n",
       "      <td>1</td>\n",
       "      <td>0</td>\n",
       "      <td>0</td>\n",
       "    </tr>\n",
       "    <tr>\n",
       "      <th>...</th>\n",
       "      <td>...</td>\n",
       "      <td>...</td>\n",
       "      <td>...</td>\n",
       "      <td>...</td>\n",
       "      <td>...</td>\n",
       "      <td>...</td>\n",
       "      <td>...</td>\n",
       "      <td>...</td>\n",
       "      <td>...</td>\n",
       "      <td>...</td>\n",
       "      <td>...</td>\n",
       "      <td>...</td>\n",
       "      <td>...</td>\n",
       "      <td>...</td>\n",
       "      <td>...</td>\n",
       "      <td>...</td>\n",
       "      <td>...</td>\n",
       "      <td>...</td>\n",
       "      <td>...</td>\n",
       "      <td>...</td>\n",
       "      <td>...</td>\n",
       "    </tr>\n",
       "    <tr>\n",
       "      <th>148800</th>\n",
       "      <td>2</td>\n",
       "      <td>10</td>\n",
       "      <td>7</td>\n",
       "      <td>2906b810c7d4411798c6938adc9daaa5</td>\n",
       "      <td>1</td>\n",
       "      <td>1</td>\n",
       "      <td>1</td>\n",
       "      <td>0</td>\n",
       "      <td>0</td>\n",
       "      <td>1</td>\n",
       "      <td>...</td>\n",
       "      <td>504</td>\n",
       "      <td>M</td>\n",
       "      <td>31.0</td>\n",
       "      <td>45000.0</td>\n",
       "      <td>2017</td>\n",
       "      <td>7</td>\n",
       "      <td>Tuesday</td>\n",
       "      <td>0</td>\n",
       "      <td>1</td>\n",
       "      <td>0</td>\n",
       "    </tr>\n",
       "    <tr>\n",
       "      <th>148801</th>\n",
       "      <td>2</td>\n",
       "      <td>10</td>\n",
       "      <td>7</td>\n",
       "      <td>2906b810c7d4411798c6938adc9daaa5</td>\n",
       "      <td>1</td>\n",
       "      <td>1</td>\n",
       "      <td>1</td>\n",
       "      <td>0</td>\n",
       "      <td>0</td>\n",
       "      <td>1</td>\n",
       "      <td>...</td>\n",
       "      <td>504</td>\n",
       "      <td>M</td>\n",
       "      <td>31.0</td>\n",
       "      <td>45000.0</td>\n",
       "      <td>2017</td>\n",
       "      <td>7</td>\n",
       "      <td>Tuesday</td>\n",
       "      <td>0</td>\n",
       "      <td>0</td>\n",
       "      <td>1</td>\n",
       "    </tr>\n",
       "    <tr>\n",
       "      <th>148802</th>\n",
       "      <td>2</td>\n",
       "      <td>10</td>\n",
       "      <td>7</td>\n",
       "      <td>2906b810c7d4411798c6938adc9daaa5</td>\n",
       "      <td>1</td>\n",
       "      <td>1</td>\n",
       "      <td>1</td>\n",
       "      <td>0</td>\n",
       "      <td>0</td>\n",
       "      <td>1</td>\n",
       "      <td>...</td>\n",
       "      <td>630</td>\n",
       "      <td>M</td>\n",
       "      <td>31.0</td>\n",
       "      <td>45000.0</td>\n",
       "      <td>2017</td>\n",
       "      <td>7</td>\n",
       "      <td>Tuesday</td>\n",
       "      <td>1</td>\n",
       "      <td>0</td>\n",
       "      <td>0</td>\n",
       "    </tr>\n",
       "    <tr>\n",
       "      <th>148803</th>\n",
       "      <td>2</td>\n",
       "      <td>10</td>\n",
       "      <td>7</td>\n",
       "      <td>2906b810c7d4411798c6938adc9daaa5</td>\n",
       "      <td>1</td>\n",
       "      <td>1</td>\n",
       "      <td>1</td>\n",
       "      <td>0</td>\n",
       "      <td>0</td>\n",
       "      <td>1</td>\n",
       "      <td>...</td>\n",
       "      <td>576</td>\n",
       "      <td>M</td>\n",
       "      <td>59.0</td>\n",
       "      <td>44000.0</td>\n",
       "      <td>2017</td>\n",
       "      <td>8</td>\n",
       "      <td>Sunday</td>\n",
       "      <td>0</td>\n",
       "      <td>1</td>\n",
       "      <td>0</td>\n",
       "    </tr>\n",
       "    <tr>\n",
       "      <th>148804</th>\n",
       "      <td>2</td>\n",
       "      <td>10</td>\n",
       "      <td>7</td>\n",
       "      <td>2906b810c7d4411798c6938adc9daaa5</td>\n",
       "      <td>1</td>\n",
       "      <td>1</td>\n",
       "      <td>1</td>\n",
       "      <td>0</td>\n",
       "      <td>0</td>\n",
       "      <td>1</td>\n",
       "      <td>...</td>\n",
       "      <td>630</td>\n",
       "      <td>M</td>\n",
       "      <td>59.0</td>\n",
       "      <td>44000.0</td>\n",
       "      <td>2017</td>\n",
       "      <td>8</td>\n",
       "      <td>Sunday</td>\n",
       "      <td>1</td>\n",
       "      <td>0</td>\n",
       "      <td>0</td>\n",
       "    </tr>\n",
       "  </tbody>\n",
       "</table>\n",
       "<p>148805 rows × 22 columns</p>\n",
       "</div>"
      ],
      "text/plain": [
       "        reward  difficulty  duration                        offer_id_t  web  \\\n",
       "0           10          10         7  ae264e3637204a6fb9bb56bc8210ddfd    0   \n",
       "1           10          10         7  ae264e3637204a6fb9bb56bc8210ddfd    0   \n",
       "2           10          10         7  ae264e3637204a6fb9bb56bc8210ddfd    0   \n",
       "3           10          10         7  ae264e3637204a6fb9bb56bc8210ddfd    0   \n",
       "4           10          10         7  ae264e3637204a6fb9bb56bc8210ddfd    0   \n",
       "...        ...         ...       ...                               ...  ...   \n",
       "148800       2          10         7  2906b810c7d4411798c6938adc9daaa5    1   \n",
       "148801       2          10         7  2906b810c7d4411798c6938adc9daaa5    1   \n",
       "148802       2          10         7  2906b810c7d4411798c6938adc9daaa5    1   \n",
       "148803       2          10         7  2906b810c7d4411798c6938adc9daaa5    1   \n",
       "148804       2          10         7  2906b810c7d4411798c6938adc9daaa5    1   \n",
       "\n",
       "        email  mobile  social  bogo  discount  ...  time gender   age  \\\n",
       "0           1       1       1     1         0  ...     0      M  64.0   \n",
       "1           1       1       1     1         0  ...   102      M  64.0   \n",
       "2           1       1       1     1         0  ...   504      M  64.0   \n",
       "3           1       1       1     1         0  ...   510      M  64.0   \n",
       "4           1       1       1     1         0  ...   510      M  64.0   \n",
       "...       ...     ...     ...   ...       ...  ...   ...    ...   ...   \n",
       "148800      1       1       0     0         1  ...   504      M  31.0   \n",
       "148801      1       1       0     0         1  ...   504      M  31.0   \n",
       "148802      1       1       0     0         1  ...   630      M  31.0   \n",
       "148803      1       1       0     0         1  ...   576      M  59.0   \n",
       "148804      1       1       0     0         1  ...   630      M  59.0   \n",
       "\n",
       "          income  membership_year  membership_month  membership_day  \\\n",
       "0       100000.0             2017                 9        Saturday   \n",
       "1       100000.0             2017                 9        Saturday   \n",
       "2       100000.0             2017                 9        Saturday   \n",
       "3       100000.0             2017                 9        Saturday   \n",
       "4       100000.0             2017                 9        Saturday   \n",
       "...          ...              ...               ...             ...   \n",
       "148800   45000.0             2017                 7         Tuesday   \n",
       "148801   45000.0             2017                 7         Tuesday   \n",
       "148802   45000.0             2017                 7         Tuesday   \n",
       "148803   44000.0             2017                 8          Sunday   \n",
       "148804   44000.0             2017                 8          Sunday   \n",
       "\n",
       "        offer completed offer received  offer viewed  \n",
       "0                     0              1             0  \n",
       "1                     0              0             1  \n",
       "2                     0              1             0  \n",
       "3                     0              0             1  \n",
       "4                     1              0             0  \n",
       "...                 ...            ...           ...  \n",
       "148800                0              1             0  \n",
       "148801                0              0             1  \n",
       "148802                1              0             0  \n",
       "148803                0              1             0  \n",
       "148804                1              0             0  \n",
       "\n",
       "[148805 rows x 22 columns]"
      ]
     },
     "execution_count": 43,
     "metadata": {},
     "output_type": "execute_result"
    }
   ],
   "source": [
    "event_type = pd.get_dummies(result['event'])\n",
    "result = pd.concat([result, event_type], axis=1, sort=False)\n",
    "result = result.drop(columns = ['event'])\n",
    "result"
   ]
  },
  {
   "cell_type": "markdown",
   "metadata": {},
   "source": [
    "For bogo and discount portfolio types, all three events offered viewed, offer received and offer completed need to be accomplished to consider the transaction to be completed. Failure in doing so will result in an incomplete transaction."
   ]
  },
  {
   "cell_type": "code",
   "execution_count": 44,
   "metadata": {},
   "outputs": [],
   "source": [
    "trans_comp = []\n",
    "mem_ids = result['mem_id_t'][result['bogo'] == 1].unique()\n",
    "for mem in mem_ids:\n",
    "    offer_ids = result['offer_id_t'][result['mem_id_t'] == str(mem)][result['bogo']==1].unique()\n",
    "    for offer in offer_ids:\n",
    "        ov = np.array(result['offer viewed'][result['mem_id_t'] == str(mem)][result['offer_id_t'] == str(offer)][result['bogo']==1])\n",
    "        oR = np.array(result['offer received'][result['mem_id_t'] == str(mem)][result['offer_id_t'] == str(offer)][result['bogo']==1])\n",
    "        oc = np.array(result['offer completed'][result['mem_id_t'] == str(mem)][result['offer_id_t'] == str(offer)][result['bogo']==1])\n",
    "        \n",
    "        if not np.any(ov) or not np.any(oR) or not np.any(oc):\n",
    "            trans_comp.append('Not Completed')\n",
    "        else:\n",
    "            trans_comp.append('Completed')"
   ]
  },
  {
   "cell_type": "code",
   "execution_count": 45,
   "metadata": {},
   "outputs": [
    {
     "name": "stdout",
     "output_type": "stream",
     "text": [
      "22062\n",
      "22062\n"
     ]
    }
   ],
   "source": [
    "bogo = result[result['bogo'] == 1]\n",
    "print(len(bogo.drop_duplicates(subset = ['mem_id_t','offer_id_t'])))\n",
    "print(len(trans_comp))"
   ]
  },
  {
   "cell_type": "code",
   "execution_count": 46,
   "metadata": {},
   "outputs": [],
   "source": [
    "trans_comp_d = []\n",
    "mem_ids = result['mem_id_t'][result['discount'] == 1].unique()\n",
    "for mem in mem_ids:\n",
    "    offer_ids = result['offer_id_t'][result['mem_id_t'] == str(mem)][result['discount']==1].unique()\n",
    "    for offer in offer_ids:\n",
    "        ov = np.array(result['offer viewed'][result['mem_id_t'] == str(mem)][result['offer_id_t'] == str(offer)][result['discount']==1])\n",
    "        oR = np.array(result['offer received'][result['mem_id_t'] == str(mem)][result['offer_id_t'] == str(offer)][result['discount']==1])\n",
    "        oc = np.array(result['offer completed'][result['mem_id_t'] == str(mem)][result['offer_id_t'] == str(offer)][result['discount']==1])\n",
    "        \n",
    "        if not np.any(ov) or not np.any(oR) or not np.any(oc):\n",
    "            trans_comp_d.append('Not Completed')\n",
    "        else:\n",
    "            trans_comp_d.append('Completed')"
   ]
  },
  {
   "cell_type": "code",
   "execution_count": 47,
   "metadata": {},
   "outputs": [
    {
     "name": "stdout",
     "output_type": "stream",
     "text": [
      "22119\n",
      "22119\n"
     ]
    }
   ],
   "source": [
    "discount = result[result['discount'] == 1]\n",
    "print(len(discount.drop_duplicates(subset = ['mem_id_t','offer_id_t'])))\n",
    "print(len(trans_comp_d))"
   ]
  },
  {
   "cell_type": "markdown",
   "metadata": {},
   "source": [
    "For informational portfolio type, only offer received and offer completed need to be accomplished in order for the transaction to be completed. Failure in doing so will result in an incomplete transaction."
   ]
  },
  {
   "cell_type": "code",
   "execution_count": 48,
   "metadata": {},
   "outputs": [],
   "source": [
    "trans_comp_i = []\n",
    "mem_ids = result['mem_id_t'][result['informational'] == 1].unique()#['4b0da7e80e5945209a1fdddfe813dbe0']#result['mem_id_t'].unique()\n",
    "for mem in mem_ids:\n",
    "    offer_ids = result['offer_id_t'][result['mem_id_t'] == str(mem)][result['informational']==1].unique()\n",
    "    #print(offer_ids)\n",
    "    for offer in offer_ids:\n",
    "        oR = np.array(result['offer received'][result['mem_id_t'] == str(mem)][result['offer_id_t'] == str(offer)][result['informational']==1])\n",
    "        oc = np.array(result['offer completed'][result['mem_id_t'] == str(mem)][result['offer_id_t'] == str(offer)][result['informational']==1])\n",
    "        \n",
    "        #print(oR)\n",
    "        #print(oc)\n",
    "        if not np.any(oR) or not np.any(oc):\n",
    "            trans_comp_i.append('Not Completed')\n",
    "        else:\n",
    "            trans_comp_i.append('Completed')"
   ]
  },
  {
   "cell_type": "code",
   "execution_count": 49,
   "metadata": {},
   "outputs": [
    {
     "name": "stdout",
     "output_type": "stream",
     "text": [
      "11041\n",
      "11041\n",
      "['Not Completed']\n"
     ]
    }
   ],
   "source": [
    "informational = result[result['informational'] == 1]\n",
    "print(len(informational.drop_duplicates(subset = ['mem_id_t','offer_id_t'])))\n",
    "print(len(trans_comp_i))\n",
    "informational = informational.drop_duplicates(subset = ['mem_id_t','offer_id_t'])\n",
    "informational['transaction']=trans_comp_i\n",
    "print(informational.transaction.unique())"
   ]
  },
  {
   "cell_type": "markdown",
   "metadata": {},
   "source": [
    "Exporting the newly created Bogo, Discount and Informational dataframes containing the 'transaction completed' status to csv files."
   ]
  },
  {
   "cell_type": "code",
   "execution_count": 51,
   "metadata": {},
   "outputs": [],
   "source": [
    "bogo = bogo.drop_duplicates(subset = ['mem_id_t','offer_id_t'])\n",
    "discount = discount.drop_duplicates(subset = ['mem_id_t','offer_id_t'])\n",
    "informational = informational.drop_duplicates(subset = ['mem_id_t','offer_id_t'])\n",
    "bogo['transaction']=trans_comp\n",
    "discount['transaction']=trans_comp_d\n",
    "informational['transaction']=trans_comp_i\n",
    "bogo.to_csv(r'./bogo_csv.csv', index = False)\n",
    "discount.to_csv(r'./discount_csv.csv', index = False)\n",
    "informational.to_csv(r'./informational_csv.csv', index = False)"
   ]
  },
  {
   "cell_type": "code",
   "execution_count": 52,
   "metadata": {},
   "outputs": [],
   "source": [
    "bogo = pd.read_csv(r'./bogo_csv.csv')\n",
    "discount = pd.read_csv(r'./discount_csv.csv')\n",
    "informational = pd.read_csv(r'./informational_csv.csv')"
   ]
  },
  {
   "cell_type": "markdown",
   "metadata": {},
   "source": [
    "Dropping unwanted columns from the three dataframes."
   ]
  },
  {
   "cell_type": "code",
   "execution_count": 53,
   "metadata": {},
   "outputs": [],
   "source": [
    "bogo = bogo.drop(columns=['offer_id_t','bogo','discount','informational','mem_id_t','offer completed','offer viewed','offer received'])\n",
    "discount = discount.drop(columns=['offer_id_t','bogo','discount','informational','mem_id_t','offer completed','offer viewed','offer received'])\n",
    "informational = informational.drop(columns=['offer_id_t','bogo','discount','informational','mem_id_t','offer completed','offer viewed','offer received'])"
   ]
  },
  {
   "cell_type": "markdown",
   "metadata": {},
   "source": [
    "Using label encoder to encode the categorical variables to integers for use in the Machine Learning Algorithms. "
   ]
  },
  {
   "cell_type": "code",
   "execution_count": 54,
   "metadata": {},
   "outputs": [
    {
     "name": "stdout",
     "output_type": "stream",
     "text": [
      "Gender :  ['F' 'M' 'O']\n",
      "Membership Day :  ['Friday' 'Monday' 'Saturday' 'Sunday' 'Thursday' 'Tuesday' 'Wednesday']\n",
      "Transaction :  ['Completed' 'Not Completed']\n"
     ]
    }
   ],
   "source": [
    "from sklearn.preprocessing import LabelEncoder\n",
    "gle = LabelEncoder()\n",
    "bogo['gender'] = gle.fit_transform(bogo['gender'])\n",
    "discount['gender'] = gle.fit_transform(discount['gender'])\n",
    "print(\"Gender : \",gle.classes_)\n",
    "mle = LabelEncoder()\n",
    "bogo['membership_day'] = mle.fit_transform(bogo['membership_day'])\n",
    "discount['membership_day'] = mle.fit_transform(discount['membership_day'])\n",
    "print(\"Membership Day : \",mle.classes_)\n",
    "tle = LabelEncoder()\n",
    "bogo['transaction'] = tle.fit_transform(bogo['transaction'])\n",
    "discount['transaction'] = tle.fit_transform(discount['transaction'])\n",
    "print(\"Transaction : \",tle.classes_)"
   ]
  },
  {
   "cell_type": "markdown",
   "metadata": {},
   "source": [
    "Creating train and test data for 'Bogo' and 'Discount' respectively."
   ]
  },
  {
   "cell_type": "code",
   "execution_count": 55,
   "metadata": {},
   "outputs": [],
   "source": [
    "x_b = np.array(bogo.loc[:, bogo.columns != 'transaction'])\n",
    "y_b = np.array(bogo['transaction'])\n",
    "x_train_b, x_test_b, y_train_b, y_test_b = train_test_split(x_b, y_b, stratify=y_b, test_size=0.2)\n",
    "x_d = np.array(discount.loc[:, discount.columns != 'transaction'])\n",
    "y_d = np.array(discount['transaction'])\n",
    "x_train_d, x_test_d, y_train_d, y_test_d = train_test_split(x_d, y_d, stratify=y_d, test_size=0.2)"
   ]
  },
  {
   "cell_type": "markdown",
   "metadata": {},
   "source": [
    "Creating 'Random Forest classifier' for predicting transaction status for Bogo and Discount respectively."
   ]
  },
  {
   "cell_type": "code",
   "execution_count": 56,
   "metadata": {},
   "outputs": [],
   "source": [
    "from sklearn.ensemble import RandomForestClassifier\n",
    "clf_b = RandomForestClassifier(random_state = 1)\n",
    "clf_d = RandomForestClassifier(random_state = 1)\n",
    "clf_b = clf_b.fit(x_train_b, y_train_b)\n",
    "clf_d = clf_d.fit(x_train_d, y_train_d)"
   ]
  },
  {
   "cell_type": "code",
   "execution_count": 57,
   "metadata": {},
   "outputs": [
    {
     "name": "stdout",
     "output_type": "stream",
     "text": [
      "Training accuracy for BOGO :  0.9998866791319622\n",
      "Training accuracy for DISCOUNT :  0.9998869737213902\n"
     ]
    }
   ],
   "source": [
    "print(\"Training accuracy for BOGO : \",clf_b.score(x_train_b, y_train_b))\n",
    "print(\"Training accuracy for DISCOUNT : \",clf_d.score(x_train_d, y_train_d))"
   ]
  },
  {
   "cell_type": "code",
   "execution_count": 58,
   "metadata": {},
   "outputs": [
    {
     "data": {
      "text/html": [
       "<div>\n",
       "<style scoped>\n",
       "    .dataframe tbody tr th:only-of-type {\n",
       "        vertical-align: middle;\n",
       "    }\n",
       "\n",
       "    .dataframe tbody tr th {\n",
       "        vertical-align: top;\n",
       "    }\n",
       "\n",
       "    .dataframe thead th {\n",
       "        text-align: right;\n",
       "    }\n",
       "</style>\n",
       "<table border=\"1\" class=\"dataframe\">\n",
       "  <thead>\n",
       "    <tr style=\"text-align: right;\">\n",
       "      <th></th>\n",
       "      <th>BOGO Features</th>\n",
       "      <th>BOGO Importance</th>\n",
       "      <th>DISCOUNT Features</th>\n",
       "      <th>DISCOUNT Importance</th>\n",
       "    </tr>\n",
       "  </thead>\n",
       "  <tbody>\n",
       "    <tr>\n",
       "      <th>0</th>\n",
       "      <td>income</td>\n",
       "      <td>0.259916</td>\n",
       "      <td>income</td>\n",
       "      <td>0.215223</td>\n",
       "    </tr>\n",
       "    <tr>\n",
       "      <th>1</th>\n",
       "      <td>age</td>\n",
       "      <td>0.226452</td>\n",
       "      <td>age</td>\n",
       "      <td>0.202034</td>\n",
       "    </tr>\n",
       "    <tr>\n",
       "      <th>2</th>\n",
       "      <td>membership_month</td>\n",
       "      <td>0.131037</td>\n",
       "      <td>membership_month</td>\n",
       "      <td>0.116029</td>\n",
       "    </tr>\n",
       "    <tr>\n",
       "      <th>3</th>\n",
       "      <td>membership_day</td>\n",
       "      <td>0.107377</td>\n",
       "      <td>membership_day</td>\n",
       "      <td>0.090520</td>\n",
       "    </tr>\n",
       "    <tr>\n",
       "      <th>4</th>\n",
       "      <td>membership_year</td>\n",
       "      <td>0.103446</td>\n",
       "      <td>membership_year</td>\n",
       "      <td>0.088474</td>\n",
       "    </tr>\n",
       "    <tr>\n",
       "      <th>5</th>\n",
       "      <td>time</td>\n",
       "      <td>0.092860</td>\n",
       "      <td>social</td>\n",
       "      <td>0.081706</td>\n",
       "    </tr>\n",
       "    <tr>\n",
       "      <th>6</th>\n",
       "      <td>gender</td>\n",
       "      <td>0.035818</td>\n",
       "      <td>time</td>\n",
       "      <td>0.077511</td>\n",
       "    </tr>\n",
       "    <tr>\n",
       "      <th>7</th>\n",
       "      <td>duration</td>\n",
       "      <td>0.012804</td>\n",
       "      <td>difficulty</td>\n",
       "      <td>0.032945</td>\n",
       "    </tr>\n",
       "    <tr>\n",
       "      <th>8</th>\n",
       "      <td>social</td>\n",
       "      <td>0.010424</td>\n",
       "      <td>reward</td>\n",
       "      <td>0.031682</td>\n",
       "    </tr>\n",
       "    <tr>\n",
       "      <th>9</th>\n",
       "      <td>difficulty</td>\n",
       "      <td>0.007493</td>\n",
       "      <td>mobile</td>\n",
       "      <td>0.027127</td>\n",
       "    </tr>\n",
       "    <tr>\n",
       "      <th>10</th>\n",
       "      <td>reward</td>\n",
       "      <td>0.007435</td>\n",
       "      <td>gender</td>\n",
       "      <td>0.025930</td>\n",
       "    </tr>\n",
       "    <tr>\n",
       "      <th>11</th>\n",
       "      <td>web</td>\n",
       "      <td>0.004936</td>\n",
       "      <td>duration</td>\n",
       "      <td>0.010818</td>\n",
       "    </tr>\n",
       "    <tr>\n",
       "      <th>12</th>\n",
       "      <td>mobile</td>\n",
       "      <td>0.000000</td>\n",
       "      <td>email</td>\n",
       "      <td>0.000000</td>\n",
       "    </tr>\n",
       "    <tr>\n",
       "      <th>13</th>\n",
       "      <td>email</td>\n",
       "      <td>0.000000</td>\n",
       "      <td>web</td>\n",
       "      <td>0.000000</td>\n",
       "    </tr>\n",
       "  </tbody>\n",
       "</table>\n",
       "</div>"
      ],
      "text/plain": [
       "       BOGO Features  BOGO Importance DISCOUNT Features  DISCOUNT Importance\n",
       "0             income         0.259916            income             0.215223\n",
       "1                age         0.226452               age             0.202034\n",
       "2   membership_month         0.131037  membership_month             0.116029\n",
       "3     membership_day         0.107377    membership_day             0.090520\n",
       "4    membership_year         0.103446   membership_year             0.088474\n",
       "5               time         0.092860            social             0.081706\n",
       "6             gender         0.035818              time             0.077511\n",
       "7           duration         0.012804        difficulty             0.032945\n",
       "8             social         0.010424            reward             0.031682\n",
       "9         difficulty         0.007493            mobile             0.027127\n",
       "10            reward         0.007435            gender             0.025930\n",
       "11               web         0.004936          duration             0.010818\n",
       "12            mobile         0.000000             email             0.000000\n",
       "13             email         0.000000               web             0.000000"
      ]
     },
     "execution_count": 58,
     "metadata": {},
     "output_type": "execute_result"
    }
   ],
   "source": [
    "feature_imp_b = pd.Series(clf_b.feature_importances_, index = bogo.loc[:, bogo.columns != 'transaction'].columns).sort_values(ascending=False)\n",
    "feature_imp_d = pd.Series(clf_d.feature_importances_, index = discount.loc[:, discount.columns != 'transaction'].columns).sort_values(ascending=False)\n",
    "feat_imp = pd.DataFrame({'BOGO Features':list(feature_imp_b.index),\n",
    "                        'BOGO Importance':list(feature_imp_b),\n",
    "                        'DISCOUNT Features':list(feature_imp_d.index),\n",
    "                        'DISCOUNT Importance':list(feature_imp_d)})\n",
    "feat_imp"
   ]
  },
  {
   "cell_type": "code",
   "execution_count": 59,
   "metadata": {},
   "outputs": [
    {
     "data": {
      "image/png": "[encoded data removed]",
      "text/plain": [
       "<Figure size 1440x288 with 2 Axes>"
      ]
     },
     "metadata": {
      "needs_background": "light"
     },
     "output_type": "display_data"
    }
   ],
   "source": [
    "fig, ax = plt.subplots(1, 2, sharex=True, figsize=(20,4))\n",
    "plt.sca(ax[0])\n",
    "feature_imp_b.plot(kind='bar')\n",
    "plt.xlabel('Feature')\n",
    "plt.ylabel('Importance')\n",
    "plt.title('BOGO')\n",
    "plt.sca(ax[1])\n",
    "feature_imp_d.plot(kind='bar')\n",
    "plt.xlabel('Feature')\n",
    "plt.ylabel('Importance')\n",
    "plt.title('DISCOUNT')\n",
    "fig.suptitle('Feature Importances for the Random Forest model', fontsize='x-large')\n",
    "fig.subplots_adjust(top=0.85)"
   ]
  },
  {
   "cell_type": "markdown",
   "metadata": {},
   "source": [
    "Importance of every feature is depicted in this bar plot when a member completes a 'Bogo' transaction. In this particular case, Income has the highest importance where as web has the lowest importance and mobile and e-mail do not have importance. "
   ]
  },
  {
   "cell_type": "code",
   "execution_count": 60,
   "metadata": {},
   "outputs": [],
   "source": [
    "y_pred_b = clf_b.predict(x_test_b)\n",
    "y_pred_d = clf_d.predict(x_test_d)"
   ]
  },
  {
   "cell_type": "code",
   "execution_count": 61,
   "metadata": {},
   "outputs": [
    {
     "name": "stdout",
     "output_type": "stream",
     "text": [
      "Test accuracy for BOGO :  0.6489916156809427\n",
      "Test accuracy for DISCOUNT :  0.7081826401446655\n"
     ]
    }
   ],
   "source": [
    "print(\"Test accuracy for BOGO : \",clf_b.score(x_test_b, y_test_b))\n",
    "print(\"Test accuracy for DISCOUNT : \",clf_d.score(x_test_d, y_test_d))"
   ]
  },
  {
   "cell_type": "markdown",
   "metadata": {},
   "source": [
    "### Creating a confusion matrix for test data"
   ]
  },
  {
   "cell_type": "code",
   "execution_count": 62,
   "metadata": {},
   "outputs": [],
   "source": [
    "#confusion matrix for the test data\n",
    "def plot_confusion_matrix(cm, classes,\n",
    "                          normalize=True,\n",
    "                          title = 'Confusion matrix',\n",
    "                          cmap = plt.cm.Blues):\n",
    "    \"\"\"\n",
    "    This function prints and plots the confusion matrix.\n",
    "    Normalization can be applied by setting `normalize=True`.\n",
    "    \"\"\"\n",
    "    import itertools\n",
    "    if normalize:\n",
    "        cm = (cm.astype('float') / cm.sum(axis=1)[:, np.newaxis])*100\n",
    "\n",
    "    plt.imshow(cm, interpolation='nearest', cmap=cmap)\n",
    "    plt.title(title)\n",
    "    plt.colorbar()\n",
    "    tick_marks = np.arange(len(classes))\n",
    "    plt.xticks(tick_marks, classes, rotation=45)\n",
    "    plt.yticks(tick_marks, classes)\n",
    "\n",
    "    fmt = '.2f' if normalize else 'd'\n",
    "    thresh = cm.max() / 2.\n",
    "    for i, j in itertools.product(range(cm.shape[0]), range(cm.shape[1])):\n",
    "        plt.text(j, i, format(cm[i, j], fmt),\n",
    "                 horizontalalignment=\"center\",\n",
    "                 color=\"white\" if cm[i, j] > thresh else \"black\")\n",
    "\n",
    "    plt.ylabel('True label')\n",
    "    plt.xlabel('Predicted label')\n",
    "    plt.tight_layout()"
   ]
  },
  {
   "cell_type": "code",
   "execution_count": 63,
   "metadata": {},
   "outputs": [
    {
     "data": {
      "image/png": "[encoded data removed]",
      "text/plain": [
       "<Figure size 432x288 with 2 Axes>"
      ]
     },
     "metadata": {
      "needs_background": "light"
     },
     "output_type": "display_data"
    }
   ],
   "source": [
    "# confusion matrix creation\n",
    "from sklearn.metrics import confusion_matrix\n",
    "y_true = tle.inverse_transform(y_test_b)\n",
    "y_pred = tle.inverse_transform(y_pred_b)\n",
    "labels = tle.classes_\n",
    "cnf_matrix = confusion_matrix(y_true, y_pred,labels=labels)\n",
    "\n",
    "# Plot confusion matrix\n",
    "plot_confusion_matrix(cnf_matrix, classes=labels,\n",
    "                      title='BOGO Confusion matrix')"
   ]
  },
  {
   "cell_type": "markdown",
   "metadata": {},
   "source": [
    "As per the confusion matrix plot, the accuracy of the model in predicting the completion of a 'Bogo' deal is 71.91 % where as for non-completion is 55.04%. \n",
    "The model incorrectly predicted completed transactions to be 28.09% and for not completed transactions to be 44.96%"
   ]
  },
  {
   "cell_type": "code",
   "execution_count": 64,
   "metadata": {},
   "outputs": [
    {
     "data": {
      "image/png": "[encoded data removed]",
      "text/plain": [
       "<Figure size 432x288 with 2 Axes>"
      ]
     },
     "metadata": {
      "needs_background": "light"
     },
     "output_type": "display_data"
    }
   ],
   "source": [
    "y_true = tle.inverse_transform(y_test_d)\n",
    "y_pred = tle.inverse_transform(y_pred_d)\n",
    "labels = tle.classes_\n",
    "cnf_matrix = confusion_matrix(y_true, y_pred,labels=labels)\n",
    "\n",
    "# Plot confusion matrix\n",
    "plot_confusion_matrix(cnf_matrix, classes=labels,\n",
    "                      title='DISCOUNT Confusion matrix')"
   ]
  },
  {
   "cell_type": "markdown",
   "metadata": {},
   "source": [
    "As per the confusion matrix plot, the accuracy of the model in predicting the completion of a 'Discount' deal is 74.09 % where as for non-completion is 61.89%. \n",
    "The model incorrectly predicted completed transactions to be 25.91% and for not completed transactions to be 38.11%"
   ]
  }
 ],
 "metadata": {
  "kernelspec": {
   "display_name": "Python 3",
   "language": "python",
   "name": "python3"
  },
  "language_info": {
   "codemirror_mode": {
    "name": "ipython",
    "version": 3
   },
   "file_extension": ".py",
   "mimetype": "text/x-python",
   "name": "python",
   "nbconvert_exporter": "python",
   "pygments_lexer": "ipython3",
   "version": "3.7.6"
  }
 },
 "nbformat": 4,
 "nbformat_minor": 4
}
